{
  "cells": [
    {
      "cell_type": "markdown",
      "source": [
        "P1: Q1"
      ],
      "metadata": {
        "id": "HSgSbw1HoM3I"
      }
    },
    {
      "cell_type": "code",
      "execution_count": 1,
      "metadata": {
        "id": "D6N9W5-0IhCj"
      },
      "outputs": [],
      "source": [
        "# For tips on running notebooks in Google Colab, see\n",
        "# https://pytorch.org/tutorials/beginner/colab\n",
        "%matplotlib inline"
      ]
    },
    {
      "cell_type": "markdown",
      "metadata": {
        "id": "JYWcB87xIhCj"
      },
      "source": [
        "Chatbot Tutorial\n",
        "================\n",
        "\n",
        "**Author:** [Matthew Inkawhich](https://github.com/MatthewInkawhich)\n"
      ]
    },
    {
      "cell_type": "markdown",
      "metadata": {
        "id": "eh4FaMrsIhCk"
      },
      "source": [
        "In this tutorial, we explore a fun and interesting use-case of recurrent\n",
        "sequence-to-sequence models. We will train a simple chatbot using movie\n",
        "scripts from the [Cornell Movie-Dialogs\n",
        "Corpus](https://www.cs.cornell.edu/~cristian/Cornell_Movie-Dialogs_Corpus.html).\n",
        "\n",
        "Conversational models are a hot topic in artificial intelligence\n",
        "research. Chatbots can be found in a variety of settings, including\n",
        "customer service applications and online helpdesks. These bots are often\n",
        "powered by retrieval-based models, which output predefined responses to\n",
        "questions of certain forms. In a highly restricted domain like a\n",
        "company's IT helpdesk, these models may be sufficient, however, they are\n",
        "not robust enough for more general use-cases. Teaching a machine to\n",
        "carry out a meaningful conversation with a human in multiple domains is\n",
        "a research question that is far from solved. Recently, the deep learning\n",
        "boom has allowed for powerful generative models like Google's [Neural\n",
        "Conversational Model](https://arxiv.org/abs/1506.05869), which marks a\n",
        "large step towards multi-domain generative conversational models. In\n",
        "this tutorial, we will implement this kind of model in PyTorch.\n",
        "\n",
        "![](https://pytorch.org/tutorials/_static/img/chatbot/bot.png){.align-center}\n",
        "\n",
        "``` {.python}\n",
        "> hello?\n",
        "Bot: hello .\n",
        "> where am I?\n",
        "Bot: you re in a hospital .\n",
        "> who are you?\n",
        "Bot: i m a lawyer .\n",
        "> how are you doing?\n",
        "Bot: i m fine .\n",
        "> are you my friend?\n",
        "Bot: no .\n",
        "> you're under arrest\n",
        "Bot: i m trying to help you !\n",
        "> i'm just kidding\n",
        "Bot: i m sorry .\n",
        "> where are you from?\n",
        "Bot: san francisco .\n",
        "> it's time for me to leave\n",
        "Bot: i know .\n",
        "> goodbye\n",
        "Bot: goodbye .\n",
        "```\n",
        "\n",
        "**Tutorial Highlights**\n",
        "\n",
        "-   Handle loading and preprocessing of [Cornell Movie-Dialogs\n",
        "    Corpus](https://www.cs.cornell.edu/~cristian/Cornell_Movie-Dialogs_Corpus.html)\n",
        "    dataset\n",
        "-   Implement a sequence-to-sequence model with [Luong attention\n",
        "    mechanism(s)](https://arxiv.org/abs/1508.04025)\n",
        "-   Jointly train encoder and decoder models using mini-batches\n",
        "-   Implement greedy-search decoding module\n",
        "-   Interact with trained chatbot\n",
        "\n",
        "**Acknowledgments**\n",
        "\n",
        "This tutorial borrows code from the following sources:\n",
        "\n",
        "1)  Yuan-Kuei Wu's pytorch-chatbot implementation:\n",
        "    <https://github.com/ywk991112/pytorch-chatbot>\n",
        "2)  Sean Robertson's practical-pytorch seq2seq-translation example:\n",
        "    <https://github.com/spro/practical-pytorch/tree/master/seq2seq-translation>\n",
        "3)  FloydHub Cornell Movie Corpus preprocessing code:\n",
        "    <https://github.com/floydhub/textutil-preprocess-cornell-movie-corpus>\n"
      ]
    },
    {
      "cell_type": "markdown",
      "metadata": {
        "id": "CSLMCW_TIhCk"
      },
      "source": [
        "Preparations\n",
        "============\n",
        "\n",
        "To get started,\n",
        "[download](https://zissou.infosci.cornell.edu/convokit/datasets/movie-corpus/movie-corpus.zip)\n",
        "the Movie-Dialogs Corpus zip file.\n"
      ]
    },
    {
      "cell_type": "code",
      "execution_count": 2,
      "metadata": {
        "id": "aUSzGDLIIhCk",
        "colab": {
          "base_uri": "https://localhost:8080/"
        },
        "outputId": "2a780949-decd-4429-da65-bd18b5802037"
      },
      "outputs": [
        {
          "output_type": "stream",
          "name": "stdout",
          "text": [
            "Using cuda device\n"
          ]
        }
      ],
      "source": [
        "# and put in a ``data/`` directory under the current directory.\n",
        "#\n",
        "# After that, let’s import some necessities.\n",
        "#\n",
        "\n",
        "import torch\n",
        "from torch.jit import script, trace\n",
        "import torch.nn as nn\n",
        "from torch import optim\n",
        "import torch.nn.functional as F\n",
        "import csv\n",
        "import random\n",
        "import re\n",
        "import os\n",
        "import unicodedata\n",
        "import codecs\n",
        "from io import open\n",
        "import itertools\n",
        "import math\n",
        "import json\n",
        "\n",
        "\n",
        "# If the current `accelerator <https://pytorch.org/docs/stable/torch.html#accelerators>`__ is available,\n",
        "# we will use it. Otherwise, we use the CPU.\n",
        "device = torch.accelerator.current_accelerator().type if torch.accelerator.is_available() else \"cpu\"\n",
        "print(f\"Using {device} device\")"
      ]
    },
    {
      "cell_type": "markdown",
      "metadata": {
        "id": "B0G5C9WVIhCl"
      },
      "source": [
        "Load & Preprocess Data\n",
        "======================\n",
        "\n",
        "The next step is to reformat our data file and load the data into\n",
        "structures that we can work with.\n",
        "\n",
        "The [Cornell Movie-Dialogs\n",
        "Corpus](https://www.cs.cornell.edu/~cristian/Cornell_Movie-Dialogs_Corpus.html)\n",
        "is a rich dataset of movie character dialog:\n",
        "\n",
        "-   220,579 conversational exchanges between 10,292 pairs of movie\n",
        "    characters\n",
        "-   9,035 characters from 617 movies\n",
        "-   304,713 total utterances\n",
        "\n",
        "This dataset is large and diverse, and there is a great variation of\n",
        "language formality, time periods, sentiment, etc. Our hope is that this\n",
        "diversity makes our model robust to many forms of inputs and queries.\n",
        "\n",
        "First, we'll take a look at some lines of our datafile to see the\n",
        "original format.\n"
      ]
    },
    {
      "cell_type": "code",
      "execution_count": 3,
      "metadata": {
        "id": "4NVcksWiIhCl",
        "colab": {
          "base_uri": "https://localhost:8080/"
        },
        "outputId": "a9a24fce-6881-48bc-f1af-76f1928c60c0"
      },
      "outputs": [
        {
          "output_type": "stream",
          "name": "stdout",
          "text": [
            "b'{\"id\": \"L1045\", \"conversation_id\": \"L1044\", \"text\": \"They do not!\", \"speaker\": \"u0\", \"meta\": {\"movie_id\": \"m0\", \"parsed\": [{\"rt\": 1, \"toks\": [{\"tok\": \"They\", \"tag\": \"PRP\", \"dep\": \"nsubj\", \"up\": 1, \"dn\": []}, {\"tok\": \"do\", \"tag\": \"VBP\", \"dep\": \"ROOT\", \"dn\": [0, 2, 3]}, {\"tok\": \"not\", \"tag\": \"RB\", \"dep\": \"neg\", \"up\": 1, \"dn\": []}, {\"tok\": \"!\", \"tag\": \".\", \"dep\": \"punct\", \"up\": 1, \"dn\": []}]}]}, \"reply-to\": \"L1044\", \"timestamp\": null, \"vectors\": []}\\n'\n",
            "b'{\"id\": \"L1044\", \"conversation_id\": \"L1044\", \"text\": \"They do to!\", \"speaker\": \"u2\", \"meta\": {\"movie_id\": \"m0\", \"parsed\": [{\"rt\": 1, \"toks\": [{\"tok\": \"They\", \"tag\": \"PRP\", \"dep\": \"nsubj\", \"up\": 1, \"dn\": []}, {\"tok\": \"do\", \"tag\": \"VBP\", \"dep\": \"ROOT\", \"dn\": [0, 2, 3]}, {\"tok\": \"to\", \"tag\": \"TO\", \"dep\": \"dobj\", \"up\": 1, \"dn\": []}, {\"tok\": \"!\", \"tag\": \".\", \"dep\": \"punct\", \"up\": 1, \"dn\": []}]}]}, \"reply-to\": null, \"timestamp\": null, \"vectors\": []}\\n'\n",
            "b'{\"id\": \"L985\", \"conversation_id\": \"L984\", \"text\": \"I hope so.\", \"speaker\": \"u0\", \"meta\": {\"movie_id\": \"m0\", \"parsed\": [{\"rt\": 1, \"toks\": [{\"tok\": \"I\", \"tag\": \"PRP\", \"dep\": \"nsubj\", \"up\": 1, \"dn\": []}, {\"tok\": \"hope\", \"tag\": \"VBP\", \"dep\": \"ROOT\", \"dn\": [0, 2, 3]}, {\"tok\": \"so\", \"tag\": \"RB\", \"dep\": \"advmod\", \"up\": 1, \"dn\": []}, {\"tok\": \".\", \"tag\": \".\", \"dep\": \"punct\", \"up\": 1, \"dn\": []}]}]}, \"reply-to\": \"L984\", \"timestamp\": null, \"vectors\": []}\\n'\n",
            "b'{\"id\": \"L984\", \"conversation_id\": \"L984\", \"text\": \"She okay?\", \"speaker\": \"u2\", \"meta\": {\"movie_id\": \"m0\", \"parsed\": [{\"rt\": 1, \"toks\": [{\"tok\": \"She\", \"tag\": \"PRP\", \"dep\": \"nsubj\", \"up\": 1, \"dn\": []}, {\"tok\": \"okay\", \"tag\": \"RB\", \"dep\": \"ROOT\", \"dn\": [0, 2]}, {\"tok\": \"?\", \"tag\": \".\", \"dep\": \"punct\", \"up\": 1, \"dn\": []}]}]}, \"reply-to\": null, \"timestamp\": null, \"vectors\": []}\\n'\n",
            "b'{\"id\": \"L925\", \"conversation_id\": \"L924\", \"text\": \"Let\\'s go.\", \"speaker\": \"u0\", \"meta\": {\"movie_id\": \"m0\", \"parsed\": [{\"rt\": 0, \"toks\": [{\"tok\": \"Let\", \"tag\": \"VB\", \"dep\": \"ROOT\", \"dn\": [2, 3]}, {\"tok\": \"\\'s\", \"tag\": \"PRP\", \"dep\": \"nsubj\", \"up\": 2, \"dn\": []}, {\"tok\": \"go\", \"tag\": \"VB\", \"dep\": \"ccomp\", \"up\": 0, \"dn\": [1]}, {\"tok\": \".\", \"tag\": \".\", \"dep\": \"punct\", \"up\": 0, \"dn\": []}]}]}, \"reply-to\": \"L924\", \"timestamp\": null, \"vectors\": []}\\n'\n",
            "b'{\"id\": \"L924\", \"conversation_id\": \"L924\", \"text\": \"Wow\", \"speaker\": \"u2\", \"meta\": {\"movie_id\": \"m0\", \"parsed\": [{\"rt\": 0, \"toks\": [{\"tok\": \"Wow\", \"tag\": \"UH\", \"dep\": \"ROOT\", \"dn\": []}]}]}, \"reply-to\": null, \"timestamp\": null, \"vectors\": []}\\n'\n",
            "b'{\"id\": \"L872\", \"conversation_id\": \"L870\", \"text\": \"Okay -- you\\'re gonna need to learn how to lie.\", \"speaker\": \"u0\", \"meta\": {\"movie_id\": \"m0\", \"parsed\": [{\"rt\": 4, \"toks\": [{\"tok\": \"Okay\", \"tag\": \"UH\", \"dep\": \"intj\", \"up\": 4, \"dn\": []}, {\"tok\": \"--\", \"tag\": \":\", \"dep\": \"punct\", \"up\": 4, \"dn\": []}, {\"tok\": \"you\", \"tag\": \"PRP\", \"dep\": \"nsubj\", \"up\": 4, \"dn\": []}, {\"tok\": \"\\'re\", \"tag\": \"VBP\", \"dep\": \"aux\", \"up\": 4, \"dn\": []}, {\"tok\": \"gon\", \"tag\": \"VBG\", \"dep\": \"ROOT\", \"dn\": [0, 1, 2, 3, 6, 12]}, {\"tok\": \"na\", \"tag\": \"TO\", \"dep\": \"aux\", \"up\": 6, \"dn\": []}, {\"tok\": \"need\", \"tag\": \"VB\", \"dep\": \"xcomp\", \"up\": 4, \"dn\": [5, 8]}, {\"tok\": \"to\", \"tag\": \"TO\", \"dep\": \"aux\", \"up\": 8, \"dn\": []}, {\"tok\": \"learn\", \"tag\": \"VB\", \"dep\": \"xcomp\", \"up\": 6, \"dn\": [7, 11]}, {\"tok\": \"how\", \"tag\": \"WRB\", \"dep\": \"advmod\", \"up\": 11, \"dn\": []}, {\"tok\": \"to\", \"tag\": \"TO\", \"dep\": \"aux\", \"up\": 11, \"dn\": []}, {\"tok\": \"lie\", \"tag\": \"VB\", \"dep\": \"xcomp\", \"up\": 8, \"dn\": [9, 10]}, {\"tok\": \".\", \"tag\": \".\", \"dep\": \"punct\", \"up\": 4, \"dn\": []}]}]}, \"reply-to\": \"L871\", \"timestamp\": null, \"vectors\": []}\\n'\n",
            "b'{\"id\": \"L871\", \"conversation_id\": \"L870\", \"text\": \"No\", \"speaker\": \"u2\", \"meta\": {\"movie_id\": \"m0\", \"parsed\": [{\"rt\": 0, \"toks\": [{\"tok\": \"No\", \"tag\": \"UH\", \"dep\": \"ROOT\", \"dn\": []}]}]}, \"reply-to\": \"L870\", \"timestamp\": null, \"vectors\": []}\\n'\n",
            "b'{\"id\": \"L870\", \"conversation_id\": \"L870\", \"text\": \"I\\'m kidding.  You know how sometimes you just become this \\\\\"persona\\\\\"?  And you don\\'t know how to quit?\", \"speaker\": \"u0\", \"meta\": {\"movie_id\": \"m0\", \"parsed\": [{\"rt\": 2, \"toks\": [{\"tok\": \"I\", \"tag\": \"PRP\", \"dep\": \"nsubj\", \"up\": 2, \"dn\": []}, {\"tok\": \"\\'m\", \"tag\": \"VBP\", \"dep\": \"aux\", \"up\": 2, \"dn\": []}, {\"tok\": \"kidding\", \"tag\": \"VBG\", \"dep\": \"ROOT\", \"dn\": [0, 1, 3]}, {\"tok\": \".\", \"tag\": \".\", \"dep\": \"punct\", \"up\": 2, \"dn\": [4]}, {\"tok\": \" \", \"tag\": \"_SP\", \"dep\": \"\", \"up\": 3, \"dn\": []}]}, {\"rt\": 1, \"toks\": [{\"tok\": \"You\", \"tag\": \"PRP\", \"dep\": \"nsubj\", \"up\": 1, \"dn\": []}, {\"tok\": \"know\", \"tag\": \"VBP\", \"dep\": \"ROOT\", \"dn\": [0, 6, 11]}, {\"tok\": \"how\", \"tag\": \"WRB\", \"dep\": \"advmod\", \"up\": 3, \"dn\": []}, {\"tok\": \"sometimes\", \"tag\": \"RB\", \"dep\": \"advmod\", \"up\": 6, \"dn\": [2]}, {\"tok\": \"you\", \"tag\": \"PRP\", \"dep\": \"nsubj\", \"up\": 6, \"dn\": []}, {\"tok\": \"just\", \"tag\": \"RB\", \"dep\": \"advmod\", \"up\": 6, \"dn\": []}, {\"tok\": \"become\", \"tag\": \"VBP\", \"dep\": \"ccomp\", \"up\": 1, \"dn\": [3, 4, 5, 9]}, {\"tok\": \"this\", \"tag\": \"DT\", \"dep\": \"det\", \"up\": 9, \"dn\": []}, {\"tok\": \"\\\\\"\", \"tag\": \"``\", \"dep\": \"punct\", \"up\": 9, \"dn\": []}, {\"tok\": \"persona\", \"tag\": \"NN\", \"dep\": \"attr\", \"up\": 6, \"dn\": [7, 8, 10]}, {\"tok\": \"\\\\\"\", \"tag\": \"\\'\\'\", \"dep\": \"punct\", \"up\": 9, \"dn\": []}, {\"tok\": \"?\", \"tag\": \".\", \"dep\": \"punct\", \"up\": 1, \"dn\": [12]}, {\"tok\": \" \", \"tag\": \"_SP\", \"dep\": \"\", \"up\": 11, \"dn\": []}]}, {\"rt\": 4, \"toks\": [{\"tok\": \"And\", \"tag\": \"CC\", \"dep\": \"cc\", \"up\": 4, \"dn\": []}, {\"tok\": \"you\", \"tag\": \"PRP\", \"dep\": \"nsubj\", \"up\": 4, \"dn\": []}, {\"tok\": \"do\", \"tag\": \"VBP\", \"dep\": \"aux\", \"up\": 4, \"dn\": []}, {\"tok\": \"n\\'t\", \"tag\": \"RB\", \"dep\": \"neg\", \"up\": 4, \"dn\": []}, {\"tok\": \"know\", \"tag\": \"VB\", \"dep\": \"ROOT\", \"dn\": [0, 1, 2, 3, 7, 8]}, {\"tok\": \"how\", \"tag\": \"WRB\", \"dep\": \"advmod\", \"up\": 7, \"dn\": []}, {\"tok\": \"to\", \"tag\": \"TO\", \"dep\": \"aux\", \"up\": 7, \"dn\": []}, {\"tok\": \"quit\", \"tag\": \"VB\", \"dep\": \"xcomp\", \"up\": 4, \"dn\": [5, 6]}, {\"tok\": \"?\", \"tag\": \".\", \"dep\": \"punct\", \"up\": 4, \"dn\": []}]}]}, \"reply-to\": null, \"timestamp\": null, \"vectors\": []}\\n'\n",
            "b'{\"id\": \"L869\", \"conversation_id\": \"L866\", \"text\": \"Like my fear of wearing pastels?\", \"speaker\": \"u0\", \"meta\": {\"movie_id\": \"m0\", \"parsed\": [{\"rt\": 0, \"toks\": [{\"tok\": \"Like\", \"tag\": \"IN\", \"dep\": \"ROOT\", \"dn\": [2, 6]}, {\"tok\": \"my\", \"tag\": \"PRP$\", \"dep\": \"poss\", \"up\": 2, \"dn\": []}, {\"tok\": \"fear\", \"tag\": \"NN\", \"dep\": \"pobj\", \"up\": 0, \"dn\": [1, 3]}, {\"tok\": \"of\", \"tag\": \"IN\", \"dep\": \"prep\", \"up\": 2, \"dn\": [4]}, {\"tok\": \"wearing\", \"tag\": \"VBG\", \"dep\": \"pcomp\", \"up\": 3, \"dn\": [5]}, {\"tok\": \"pastels\", \"tag\": \"NNS\", \"dep\": \"dobj\", \"up\": 4, \"dn\": []}, {\"tok\": \"?\", \"tag\": \".\", \"dep\": \"punct\", \"up\": 0, \"dn\": []}]}]}, \"reply-to\": \"L868\", \"timestamp\": null, \"vectors\": []}\\n'\n"
          ]
        }
      ],
      "source": [
        "corpus_name = \"movie-corpus\"\n",
        "corpus = os.path.join(\"data\", corpus_name)\n",
        "\n",
        "def printLines(file, n=10):\n",
        "    with open(file, 'rb') as datafile:\n",
        "        lines = datafile.readlines()\n",
        "    for line in lines[:n]:\n",
        "        print(line)\n",
        "\n",
        "printLines(os.path.join(corpus, \"utterances.jsonl\"))"
      ]
    },
    {
      "cell_type": "markdown",
      "metadata": {
        "id": "VE_3qd-2IhCl"
      },
      "source": [
        "Create formatted data file\n",
        "==========================\n",
        "\n",
        "For convenience, we\\'ll create a nicely formatted data file in which\n",
        "each line contains a tab-separated *query sentence* and a *response\n",
        "sentence* pair.\n",
        "\n",
        "The following functions facilitate the parsing of the raw\n",
        "`utterances.jsonl` data file.\n",
        "\n",
        "-   `loadLinesAndConversations` splits each line of the file into a\n",
        "    dictionary of lines with fields: `lineID`, `characterID`, and text\n",
        "    and then groups them into conversations with fields:\n",
        "    `conversationID`, `movieID`, and lines.\n",
        "-   `extractSentencePairs` extracts pairs of sentences from\n",
        "    conversations\n"
      ]
    },
    {
      "cell_type": "code",
      "execution_count": 4,
      "metadata": {
        "id": "oqmzi8FoIhCl"
      },
      "outputs": [],
      "source": [
        "# Splits each line of the file to create lines and conversations\n",
        "def loadLinesAndConversations(fileName):\n",
        "    lines = {}\n",
        "    conversations = {}\n",
        "    with open(fileName, 'r', encoding='iso-8859-1') as f:\n",
        "        for line in f:\n",
        "            lineJson = json.loads(line)\n",
        "            # Extract fields for line object\n",
        "            lineObj = {}\n",
        "            lineObj[\"lineID\"] = lineJson[\"id\"]\n",
        "            lineObj[\"characterID\"] = lineJson[\"speaker\"]\n",
        "            lineObj[\"text\"] = lineJson[\"text\"]\n",
        "            lines[lineObj['lineID']] = lineObj\n",
        "\n",
        "            # Extract fields for conversation object\n",
        "            if lineJson[\"conversation_id\"] not in conversations:\n",
        "                convObj = {}\n",
        "                convObj[\"conversationID\"] = lineJson[\"conversation_id\"]\n",
        "                convObj[\"movieID\"] = lineJson[\"meta\"][\"movie_id\"]\n",
        "                convObj[\"lines\"] = [lineObj]\n",
        "            else:\n",
        "                convObj = conversations[lineJson[\"conversation_id\"]]\n",
        "                convObj[\"lines\"].insert(0, lineObj)\n",
        "            conversations[convObj[\"conversationID\"]] = convObj\n",
        "\n",
        "    return lines, conversations\n",
        "\n",
        "\n",
        "# Extracts pairs of sentences from conversations\n",
        "def extractSentencePairs(conversations):\n",
        "    qa_pairs = []\n",
        "    for conversation in conversations.values():\n",
        "        # Iterate over all the lines of the conversation\n",
        "        for i in range(len(conversation[\"lines\"]) - 1):  # We ignore the last line (no answer for it)\n",
        "            inputLine = conversation[\"lines\"][i][\"text\"].strip()\n",
        "            targetLine = conversation[\"lines\"][i+1][\"text\"].strip()\n",
        "            # Filter wrong samples (if one of the lists is empty)\n",
        "            if inputLine and targetLine:\n",
        "                qa_pairs.append([inputLine, targetLine])\n",
        "    return qa_pairs"
      ]
    },
    {
      "cell_type": "markdown",
      "metadata": {
        "id": "3hoDAPDBIhCm"
      },
      "source": [
        "Now we'll call these functions and create the file. We'll call it\n",
        "`formatted_movie_lines.txt`.\n"
      ]
    },
    {
      "cell_type": "code",
      "execution_count": 5,
      "metadata": {
        "id": "tRmLHb_JIhCm",
        "colab": {
          "base_uri": "https://localhost:8080/"
        },
        "outputId": "b8d794a1-2e46-434d-d595-a6ffebcadbdb"
      },
      "outputs": [
        {
          "output_type": "stream",
          "name": "stdout",
          "text": [
            "\n",
            "Processing corpus into lines and conversations...\n",
            "\n",
            "Writing newly formatted file...\n",
            "\n",
            "Sample lines from file:\n",
            "b'They do to!\\tThey do not!\\n'\n",
            "b'She okay?\\tI hope so.\\n'\n",
            "b\"Wow\\tLet's go.\\n\"\n",
            "b'\"I\\'m kidding.  You know how sometimes you just become this \"\"persona\"\"?  And you don\\'t know how to quit?\"\\tNo\\n'\n",
            "b\"No\\tOkay -- you're gonna need to learn how to lie.\\n\"\n",
            "b\"I figured you'd get to the good stuff eventually.\\tWhat good stuff?\\n\"\n",
            "b'What good stuff?\\t\"The \"\"real you\"\".\"\\n'\n",
            "b'\"The \"\"real you\"\".\"\\tLike my fear of wearing pastels?\\n'\n",
            "b'do you listen to this crap?\\tWhat crap?\\n'\n",
            "b\"What crap?\\tMe.  This endless ...blonde babble. I'm like, boring myself.\\n\"\n"
          ]
        }
      ],
      "source": [
        "# Define path to new file\n",
        "datafile = os.path.join(corpus, \"formatted_movie_lines.txt\")\n",
        "\n",
        "delimiter = '\\t'\n",
        "# Unescape the delimiter\n",
        "delimiter = str(codecs.decode(delimiter, \"unicode_escape\"))\n",
        "\n",
        "# Initialize lines dict and conversations dict\n",
        "lines = {}\n",
        "conversations = {}\n",
        "# Load lines and conversations\n",
        "print(\"\\nProcessing corpus into lines and conversations...\")\n",
        "lines, conversations = loadLinesAndConversations(os.path.join(corpus, \"utterances.jsonl\"))\n",
        "\n",
        "# Write new csv file\n",
        "print(\"\\nWriting newly formatted file...\")\n",
        "with open(datafile, 'w', encoding='utf-8') as outputfile:\n",
        "    writer = csv.writer(outputfile, delimiter=delimiter, lineterminator='\\n')\n",
        "    for pair in extractSentencePairs(conversations):\n",
        "        writer.writerow(pair)\n",
        "\n",
        "# Print a sample of lines\n",
        "print(\"\\nSample lines from file:\")\n",
        "printLines(datafile)"
      ]
    },
    {
      "cell_type": "markdown",
      "metadata": {
        "id": "fAl6TrxNIhCm"
      },
      "source": [
        "Load and trim data\n",
        "==================\n",
        "\n",
        "Our next order of business is to create a vocabulary and load\n",
        "query/response sentence pairs into memory.\n",
        "\n",
        "Note that we are dealing with sequences of **words**, which do not have\n",
        "an implicit mapping to a discrete numerical space. Thus, we must create\n",
        "one by mapping each unique word that we encounter in our dataset to an\n",
        "index value.\n",
        "\n",
        "For this we define a `Voc` class, which keeps a mapping from words to\n",
        "indexes, a reverse mapping of indexes to words, a count of each word and\n",
        "a total word count. The class provides methods for adding a word to the\n",
        "vocabulary (`addWord`), adding all words in a sentence (`addSentence`)\n",
        "and trimming infrequently seen words (`trim`). More on trimming later.\n"
      ]
    },
    {
      "cell_type": "code",
      "execution_count": 6,
      "metadata": {
        "id": "Cutdhs3eIhCm"
      },
      "outputs": [],
      "source": [
        "# Default word tokens\n",
        "PAD_token = 0  # Used for padding short sentences\n",
        "SOS_token = 1  # Start-of-sentence token\n",
        "EOS_token = 2  # End-of-sentence token\n",
        "\n",
        "class Voc:\n",
        "    def __init__(self, name):\n",
        "        self.name = name\n",
        "        self.trimmed = False\n",
        "        self.word2index = {}\n",
        "        self.word2count = {}\n",
        "        self.index2word = {PAD_token: \"PAD\", SOS_token: \"SOS\", EOS_token: \"EOS\"}\n",
        "        self.num_words = 3  # Count SOS, EOS, PAD\n",
        "\n",
        "    def addSentence(self, sentence):\n",
        "        for word in sentence.split(' '):\n",
        "            self.addWord(word)\n",
        "\n",
        "    def addWord(self, word):\n",
        "        if word not in self.word2index:\n",
        "            self.word2index[word] = self.num_words\n",
        "            self.word2count[word] = 1\n",
        "            self.index2word[self.num_words] = word\n",
        "            self.num_words += 1\n",
        "        else:\n",
        "            self.word2count[word] += 1\n",
        "\n",
        "    # Remove words below a certain count threshold\n",
        "    def trim(self, min_count):\n",
        "        if self.trimmed:\n",
        "            return\n",
        "        self.trimmed = True\n",
        "\n",
        "        keep_words = []\n",
        "\n",
        "        for k, v in self.word2count.items():\n",
        "            if v >= min_count:\n",
        "                keep_words.append(k)\n",
        "\n",
        "        print('keep_words {} / {} = {:.4f}'.format(\n",
        "            len(keep_words), len(self.word2index), len(keep_words) / len(self.word2index)\n",
        "        ))\n",
        "\n",
        "        # Reinitialize dictionaries\n",
        "        self.word2index = {}\n",
        "        self.word2count = {}\n",
        "        self.index2word = {PAD_token: \"PAD\", SOS_token: \"SOS\", EOS_token: \"EOS\"}\n",
        "        self.num_words = 3 # Count default tokens\n",
        "\n",
        "        for word in keep_words:\n",
        "            self.addWord(word)"
      ]
    },
    {
      "cell_type": "markdown",
      "metadata": {
        "id": "H44As3EDIhCm"
      },
      "source": [
        "Now we can assemble our vocabulary and query/response sentence pairs.\n",
        "Before we are ready to use this data, we must perform some\n",
        "preprocessing.\n",
        "\n",
        "First, we must convert the Unicode strings to ASCII using\n",
        "`unicodeToAscii`. Next, we should convert all letters to lowercase and\n",
        "trim all non-letter characters except for basic punctuation\n",
        "(`normalizeString`). Finally, to aid in training convergence, we will\n",
        "filter out sentences with length greater than the `MAX_LENGTH` threshold\n",
        "(`filterPairs`).\n"
      ]
    },
    {
      "cell_type": "code",
      "execution_count": 7,
      "metadata": {
        "id": "2UwknGvhIhCm",
        "colab": {
          "base_uri": "https://localhost:8080/"
        },
        "outputId": "ae7593b5-ae9a-4c6f-b611-6173a47de13a"
      },
      "outputs": [
        {
          "output_type": "stream",
          "name": "stdout",
          "text": [
            "Start preparing training data ...\n",
            "Reading lines...\n",
            "Read 221282 sentence pairs\n",
            "Trimmed to 64313 sentence pairs\n",
            "Counting words...\n",
            "Counted words: 18082\n",
            "\n",
            "pairs:\n",
            "['they do to !', 'they do not !']\n",
            "['she okay ?', 'i hope so .']\n",
            "['wow', 'let s go .']\n",
            "['what good stuff ?', 'the real you .']\n",
            "['the real you .', 'like my fear of wearing pastels ?']\n",
            "['do you listen to this crap ?', 'what crap ?']\n",
            "['well no . . .', 'then that s all you had to say .']\n",
            "['then that s all you had to say .', 'but']\n",
            "['but', 'you always been this selfish ?']\n",
            "['have fun tonight ?', 'tons']\n"
          ]
        }
      ],
      "source": [
        "MAX_LENGTH = 10  # Maximum sentence length to consider\n",
        "\n",
        "# Turn a Unicode string to plain ASCII, thanks to\n",
        "# https://stackoverflow.com/a/518232/2809427\n",
        "def unicodeToAscii(s):\n",
        "    return ''.join(\n",
        "        c for c in unicodedata.normalize('NFD', s)\n",
        "        if unicodedata.category(c) != 'Mn'\n",
        "    )\n",
        "\n",
        "# Lowercase, trim, and remove non-letter characters\n",
        "def normalizeString(s):\n",
        "    s = unicodeToAscii(s.lower().strip())\n",
        "    s = re.sub(r\"([.!?])\", r\" \\1\", s)\n",
        "    s = re.sub(r\"[^a-zA-Z.!?]+\", r\" \", s)\n",
        "    s = re.sub(r\"\\s+\", r\" \", s).strip()\n",
        "    return s\n",
        "\n",
        "# Read query/response pairs and return a voc object\n",
        "def readVocs(datafile, corpus_name):\n",
        "    print(\"Reading lines...\")\n",
        "    # Read the file and split into lines\n",
        "    lines = open(datafile, encoding='utf-8').\\\n",
        "        read().strip().split('\\n')\n",
        "    # Split every line into pairs and normalize\n",
        "    pairs = [[normalizeString(s) for s in l.split('\\t')] for l in lines]\n",
        "    voc = Voc(corpus_name)\n",
        "    return voc, pairs\n",
        "\n",
        "# Returns True if both sentences in a pair 'p' are under the MAX_LENGTH threshold\n",
        "def filterPair(p):\n",
        "    # Input sequences need to preserve the last word for EOS token\n",
        "    return len(p[0].split(' ')) < MAX_LENGTH and len(p[1].split(' ')) < MAX_LENGTH\n",
        "\n",
        "# Filter pairs using the ``filterPair`` condition\n",
        "def filterPairs(pairs):\n",
        "    return [pair for pair in pairs if filterPair(pair)]\n",
        "\n",
        "# Using the functions defined above, return a populated voc object and pairs list\n",
        "def loadPrepareData(corpus, corpus_name, datafile, save_dir):\n",
        "    print(\"Start preparing training data ...\")\n",
        "    voc, pairs = readVocs(datafile, corpus_name)\n",
        "    print(\"Read {!s} sentence pairs\".format(len(pairs)))\n",
        "    pairs = filterPairs(pairs)\n",
        "    print(\"Trimmed to {!s} sentence pairs\".format(len(pairs)))\n",
        "    print(\"Counting words...\")\n",
        "    for pair in pairs:\n",
        "        voc.addSentence(pair[0])\n",
        "        voc.addSentence(pair[1])\n",
        "    print(\"Counted words:\", voc.num_words)\n",
        "    return voc, pairs\n",
        "\n",
        "\n",
        "# Load/Assemble voc and pairs\n",
        "save_dir = os.path.join(\"data\", \"save\")\n",
        "voc, pairs = loadPrepareData(corpus, corpus_name, datafile, save_dir)\n",
        "# Print some pairs to validate\n",
        "print(\"\\npairs:\")\n",
        "for pair in pairs[:10]:\n",
        "    print(pair)"
      ]
    },
    {
      "cell_type": "markdown",
      "metadata": {
        "id": "H9gqXyhVIhCn"
      },
      "source": [
        "Another tactic that is beneficial to achieving faster convergence during\n",
        "training is trimming rarely used words out of our vocabulary. Decreasing\n",
        "the feature space will also soften the difficulty of the function that\n",
        "the model must learn to approximate. We will do this as a two-step\n",
        "process:\n",
        "\n",
        "1)  Trim words used under `MIN_COUNT` threshold using the `voc.trim`\n",
        "    function.\n",
        "2)  Filter out pairs with trimmed words.\n"
      ]
    },
    {
      "cell_type": "code",
      "execution_count": 8,
      "metadata": {
        "id": "mfq6wED2IhCn",
        "colab": {
          "base_uri": "https://localhost:8080/"
        },
        "outputId": "af6506ea-5b4a-451b-c874-0c516cee8dec"
      },
      "outputs": [
        {
          "output_type": "stream",
          "name": "stdout",
          "text": [
            "keep_words 7833 / 18079 = 0.4333\n",
            "Trimmed from 64313 pairs to 53131, 0.8261 of total\n"
          ]
        }
      ],
      "source": [
        "MIN_COUNT = 3    # Minimum word count threshold for trimming\n",
        "\n",
        "def trimRareWords(voc, pairs, MIN_COUNT):\n",
        "    # Trim words used under the MIN_COUNT from the voc\n",
        "    voc.trim(MIN_COUNT)\n",
        "    # Filter out pairs with trimmed words\n",
        "    keep_pairs = []\n",
        "    for pair in pairs:\n",
        "        input_sentence = pair[0]\n",
        "        output_sentence = pair[1]\n",
        "        keep_input = True\n",
        "        keep_output = True\n",
        "        # Check input sentence\n",
        "        for word in input_sentence.split(' '):\n",
        "            if word not in voc.word2index:\n",
        "                keep_input = False\n",
        "                break\n",
        "        # Check output sentence\n",
        "        for word in output_sentence.split(' '):\n",
        "            if word not in voc.word2index:\n",
        "                keep_output = False\n",
        "                break\n",
        "\n",
        "        # Only keep pairs that do not contain trimmed word(s) in their input or output sentence\n",
        "        if keep_input and keep_output:\n",
        "            keep_pairs.append(pair)\n",
        "\n",
        "    print(\"Trimmed from {} pairs to {}, {:.4f} of total\".format(len(pairs), len(keep_pairs), len(keep_pairs) / len(pairs)))\n",
        "    return keep_pairs\n",
        "\n",
        "\n",
        "# Trim voc and pairs\n",
        "pairs = trimRareWords(voc, pairs, MIN_COUNT)"
      ]
    },
    {
      "cell_type": "markdown",
      "metadata": {
        "id": "wxNiazUTIhCn"
      },
      "source": [
        "Prepare Data for Models\n",
        "=======================\n",
        "\n",
        "Although we have put a great deal of effort into preparing and massaging\n",
        "our data into a nice vocabulary object and list of sentence pairs, our\n",
        "models will ultimately expect numerical torch tensors as inputs. One way\n",
        "to prepare the processed data for the models can be found in the\n",
        "[seq2seq translation\n",
        "tutorial](https://pytorch.org/tutorials/intermediate/seq2seq_translation_tutorial.html).\n",
        "In that tutorial, we use a batch size of 1, meaning that all we have to\n",
        "do is convert the words in our sentence pairs to their corresponding\n",
        "indexes from the vocabulary and feed this to the models.\n",
        "\n",
        "However, if you're interested in speeding up training and/or would like\n",
        "to leverage GPU parallelization capabilities, you will need to train\n",
        "with mini-batches.\n",
        "\n",
        "Using mini-batches also means that we must be mindful of the variation\n",
        "of sentence length in our batches. To accommodate sentences of different\n",
        "sizes in the same batch, we will make our batched input tensor of shape\n",
        "*(max\\_length, batch\\_size)*, where sentences shorter than the\n",
        "*max\\_length* are zero padded after an *EOS\\_token*.\n",
        "\n",
        "If we simply convert our English sentences to tensors by converting\n",
        "words to their indexes(`indexesFromSentence`) and zero-pad, our tensor\n",
        "would have shape *(batch\\_size, max\\_length)* and indexing the first\n",
        "dimension would return a full sequence across all time-steps. However,\n",
        "we need to be able to index our batch along time, and across all\n",
        "sequences in the batch. Therefore, we transpose our input batch shape to\n",
        "*(max\\_length, batch\\_size)*, so that indexing across the first\n",
        "dimension returns a time step across all sentences in the batch. We\n",
        "handle this transpose implicitly in the `zeroPadding` function.\n",
        "\n",
        "![](https://pytorch.org/tutorials/_static/img/chatbot/seq2seq_batches.png){.align-center}\n",
        "\n",
        "The `inputVar` function handles the process of converting sentences to\n",
        "tensor, ultimately creating a correctly shaped zero-padded tensor. It\n",
        "also returns a tensor of `lengths` for each of the sequences in the\n",
        "batch which will be passed to our decoder later.\n",
        "\n",
        "The `outputVar` function performs a similar function to `inputVar`, but\n",
        "instead of returning a `lengths` tensor, it returns a binary mask tensor\n",
        "and a maximum target sentence length. The binary mask tensor has the\n",
        "same shape as the output target tensor, but every element that is a\n",
        "*PAD\\_token* is 0 and all others are 1.\n",
        "\n",
        "`batch2TrainData` simply takes a bunch of pairs and returns the input\n",
        "and target tensors using the aforementioned functions.\n"
      ]
    },
    {
      "cell_type": "code",
      "execution_count": 9,
      "metadata": {
        "id": "wW_Yshc0IhCn",
        "colab": {
          "base_uri": "https://localhost:8080/"
        },
        "outputId": "b3fde69d-31e8-4264-bdee-f4cbac3e1fed"
      },
      "outputs": [
        {
          "output_type": "stream",
          "name": "stdout",
          "text": [
            "input_variable: tensor([[  26,   24,   11,   19,   54],\n",
            "        [2522,  506,  543,   90,   14],\n",
            "        [   5,  109,   24,   85,    2],\n",
            "        [  24,   26, 6395,   10,    0],\n",
            "        [  10,  943,   14,    2,    0],\n",
            "        [ 208,   14,    2,    0,    0],\n",
            "        [ 135,    2,    0,    0,    0],\n",
            "        [ 318,    0,    0,    0,    0],\n",
            "        [  14,    0,    0,    0,    0],\n",
            "        [   2,    0,    0,    0,    0]])\n",
            "lengths: tensor([10,  7,  6,  5,  3])\n",
            "target_variable: tensor([[ 397,   28,   25,   62,   20],\n",
            "        [  22,  819,  182, 1104,  658],\n",
            "        [2099,   50,  795, 1729, 1136],\n",
            "        [  10,  109,   14,   14,    6],\n",
            "        [   2,   14,  774,  323,    2],\n",
            "        [   0,    2, 6397,    2,    0],\n",
            "        [   0,    0,  774,    0,    0],\n",
            "        [   0,    0,  863,    0,    0],\n",
            "        [   0,    0,    2,    0,    0]])\n",
            "mask: tensor([[ True,  True,  True,  True,  True],\n",
            "        [ True,  True,  True,  True,  True],\n",
            "        [ True,  True,  True,  True,  True],\n",
            "        [ True,  True,  True,  True,  True],\n",
            "        [ True,  True,  True,  True,  True],\n",
            "        [False,  True,  True,  True, False],\n",
            "        [False, False,  True, False, False],\n",
            "        [False, False,  True, False, False],\n",
            "        [False, False,  True, False, False]])\n",
            "max_target_len: 9\n"
          ]
        }
      ],
      "source": [
        "def indexesFromSentence(voc, sentence):\n",
        "    return [voc.word2index[word] for word in sentence.split(' ')] + [EOS_token]\n",
        "\n",
        "\n",
        "def zeroPadding(l, fillvalue=PAD_token):\n",
        "    return list(itertools.zip_longest(*l, fillvalue=fillvalue))\n",
        "\n",
        "def binaryMatrix(l, value=PAD_token):\n",
        "    m = []\n",
        "    for i, seq in enumerate(l):\n",
        "        m.append([])\n",
        "        for token in seq:\n",
        "            if token == PAD_token:\n",
        "                m[i].append(0)\n",
        "            else:\n",
        "                m[i].append(1)\n",
        "    return m\n",
        "\n",
        "# Returns padded input sequence tensor and lengths\n",
        "def inputVar(l, voc):\n",
        "    indexes_batch = [indexesFromSentence(voc, sentence) for sentence in l]\n",
        "    lengths = torch.tensor([len(indexes) for indexes in indexes_batch])\n",
        "    padList = zeroPadding(indexes_batch)\n",
        "    padVar = torch.LongTensor(padList)\n",
        "    return padVar, lengths\n",
        "\n",
        "# Returns padded target sequence tensor, padding mask, and max target length\n",
        "def outputVar(l, voc):\n",
        "    indexes_batch = [indexesFromSentence(voc, sentence) for sentence in l]\n",
        "    max_target_len = max([len(indexes) for indexes in indexes_batch])\n",
        "    padList = zeroPadding(indexes_batch)\n",
        "    mask = binaryMatrix(padList)\n",
        "    mask = torch.BoolTensor(mask)\n",
        "    padVar = torch.LongTensor(padList)\n",
        "    return padVar, mask, max_target_len\n",
        "\n",
        "# Returns all items for a given batch of pairs\n",
        "def batch2TrainData(voc, pair_batch):\n",
        "    pair_batch.sort(key=lambda x: len(x[0].split(\" \")), reverse=True)\n",
        "    input_batch, output_batch = [], []\n",
        "    for pair in pair_batch:\n",
        "        input_batch.append(pair[0])\n",
        "        output_batch.append(pair[1])\n",
        "    inp, lengths = inputVar(input_batch, voc)\n",
        "    output, mask, max_target_len = outputVar(output_batch, voc)\n",
        "    return inp, lengths, output, mask, max_target_len\n",
        "\n",
        "\n",
        "# Example for validation\n",
        "small_batch_size = 5\n",
        "batches = batch2TrainData(voc, [random.choice(pairs) for _ in range(small_batch_size)])\n",
        "input_variable, lengths, target_variable, mask, max_target_len = batches\n",
        "\n",
        "print(\"input_variable:\", input_variable)\n",
        "print(\"lengths:\", lengths)\n",
        "print(\"target_variable:\", target_variable)\n",
        "print(\"mask:\", mask)\n",
        "print(\"max_target_len:\", max_target_len)"
      ]
    },
    {
      "cell_type": "markdown",
      "metadata": {
        "id": "AlaRjLXgIhCn"
      },
      "source": [
        "Define Models\n",
        "=============\n",
        "\n",
        "Seq2Seq Model\n",
        "-------------\n",
        "\n",
        "The brains of our chatbot is a sequence-to-sequence (seq2seq) model. The\n",
        "goal of a seq2seq model is to take a variable-length sequence as an\n",
        "input, and return a variable-length sequence as an output using a\n",
        "fixed-sized model.\n",
        "\n",
        "[Sutskever et al.](https://arxiv.org/abs/1409.3215) discovered that by\n",
        "using two separate recurrent neural nets together, we can accomplish\n",
        "this task. One RNN acts as an **encoder**, which encodes a variable\n",
        "length input sequence to a fixed-length context vector. In theory, this\n",
        "context vector (the final hidden layer of the RNN) will contain semantic\n",
        "information about the query sentence that is input to the bot. The\n",
        "second RNN is a **decoder**, which takes an input word and the context\n",
        "vector, and returns a guess for the next word in the sequence and a\n",
        "hidden state to use in the next iteration.\n",
        "\n",
        "![](https://pytorch.org/tutorials/_static/img/chatbot/seq2seq_ts.png){.align-center}\n",
        "\n",
        "Image source:\n",
        "<https://jeddy92.github.io/JEddy92.github.io/ts_seq2seq_intro/>\n"
      ]
    },
    {
      "cell_type": "markdown",
      "metadata": {
        "id": "epToq-4uIhCn"
      },
      "source": [
        "Encoder\n",
        "=======\n",
        "\n",
        "The encoder RNN iterates through the input sentence one token\n",
        "(e.g. word) at a time, at each time step outputting an \"output\" vector\n",
        "and a \"hidden state\" vector. The hidden state vector is then passed to\n",
        "the next time step, while the output vector is recorded. The encoder\n",
        "transforms the context it saw at each point in the sequence into a set\n",
        "of points in a high-dimensional space, which the decoder will use to\n",
        "generate a meaningful output for the given task.\n",
        "\n",
        "At the heart of our encoder is a multi-layered Gated Recurrent Unit,\n",
        "invented by [Cho et al.](https://arxiv.org/pdf/1406.1078v3.pdf) in 2014.\n",
        "We will use a bidirectional variant of the GRU, meaning that there are\n",
        "essentially two independent RNNs: one that is fed the input sequence in\n",
        "normal sequential order, and one that is fed the input sequence in\n",
        "reverse order. The outputs of each network are summed at each time step.\n",
        "Using a bidirectional GRU will give us the advantage of encoding both\n",
        "past and future contexts.\n",
        "\n",
        "Bidirectional RNN:\n",
        "\n",
        "![](https://pytorch.org/tutorials/_static/img/chatbot/RNN-bidirectional.png){.align-center\n",
        "width=\"70.0%\"}\n",
        "\n",
        "Image source: <https://colah.github.io/posts/2015-09-NN-Types-FP/>\n",
        "\n",
        "Note that an `embedding` layer is used to encode our word indices in an\n",
        "arbitrarily sized feature space. For our models, this layer will map\n",
        "each word to a feature space of size *hidden\\_size*. When trained, these\n",
        "values should encode semantic similarity between similar meaning words.\n",
        "\n",
        "Finally, if passing a padded batch of sequences to an RNN module, we\n",
        "must pack and unpack padding around the RNN pass using\n",
        "`nn.utils.rnn.pack_padded_sequence` and\n",
        "`nn.utils.rnn.pad_packed_sequence` respectively.\n",
        "\n",
        "**Computation Graph:**\n",
        "\n",
        "> 1)  Convert word indexes to embeddings.\n",
        "> 2)  Pack padded batch of sequences for RNN module.\n",
        "> 3)  Forward pass through GRU.\n",
        "> 4)  Unpack padding.\n",
        "> 5)  Sum bidirectional GRU outputs.\n",
        "> 6)  Return output and final hidden state.\n",
        "\n",
        "**Inputs:**\n",
        "\n",
        "-   `input_seq`: batch of input sentences; shape=*(max\\_length,\n",
        "    batch\\_size)*\n",
        "-   `input_lengths`: list of sentence lengths corresponding to each\n",
        "    sentence in the batch; shape=*(batch\\_size)*\n",
        "-   `hidden`: hidden state; shape=*(n\\_layers x num\\_directions,\n",
        "    batch\\_size, hidden\\_size)*\n",
        "\n",
        "**Outputs:**\n",
        "\n",
        "-   `outputs`: output features from the last hidden layer of the GRU\n",
        "    (sum of bidirectional outputs); shape=*(max\\_length, batch\\_size,\n",
        "    hidden\\_size)*\n",
        "-   `hidden`: updated hidden state from GRU; shape=*(n\\_layers x\n",
        "    num\\_directions, batch\\_size, hidden\\_size)*\n"
      ]
    },
    {
      "cell_type": "code",
      "execution_count": 10,
      "metadata": {
        "id": "6tbllBb_IhCo"
      },
      "outputs": [],
      "source": [
        "class EncoderRNN(nn.Module):\n",
        "    def __init__(self, hidden_size, embedding, n_layers=1, dropout=0):\n",
        "        super(EncoderRNN, self).__init__()\n",
        "        self.n_layers = n_layers\n",
        "        self.hidden_size = hidden_size\n",
        "        self.embedding = embedding\n",
        "\n",
        "        # Initialize GRU; the input_size and hidden_size parameters are both set to 'hidden_size'\n",
        "        #   because our input size is a word embedding with number of features == hidden_size\n",
        "        self.gru = nn.GRU(hidden_size, hidden_size, n_layers,\n",
        "                          dropout=(0 if n_layers == 1 else dropout), bidirectional=True)\n",
        "\n",
        "    def forward(self, input_seq, input_lengths, hidden=None):\n",
        "        # Convert word indexes to embeddings\n",
        "        embedded = self.embedding(input_seq)\n",
        "        # Pack padded batch of sequences for RNN module\n",
        "        packed = nn.utils.rnn.pack_padded_sequence(embedded, input_lengths)\n",
        "        # Forward pass through GRU\n",
        "        outputs, hidden = self.gru(packed, hidden)\n",
        "        # Unpack padding\n",
        "        outputs, _ = nn.utils.rnn.pad_packed_sequence(outputs)\n",
        "        # Sum bidirectional GRU outputs\n",
        "        outputs = outputs[:, :, :self.hidden_size] + outputs[:, : ,self.hidden_size:]\n",
        "        # Return output and final hidden state\n",
        "        return outputs, hidden"
      ]
    },
    {
      "cell_type": "markdown",
      "metadata": {
        "id": "T86LjFgIIhCo"
      },
      "source": [
        "Decoder\n",
        "=======\n",
        "\n",
        "The decoder RNN generates the response sentence in a token-by-token\n",
        "fashion. It uses the encoder's context vectors, and internal hidden\n",
        "states to generate the next word in the sequence. It continues\n",
        "generating words until it outputs an *EOS\\_token*, representing the end\n",
        "of the sentence. A common problem with a vanilla seq2seq decoder is that\n",
        "if we rely solely on the context vector to encode the entire input\n",
        "sequence's meaning, it is likely that we will have information loss.\n",
        "This is especially the case when dealing with long input sequences,\n",
        "greatly limiting the capability of our decoder.\n",
        "\n",
        "To combat this, [Bahdanau et al.](https://arxiv.org/abs/1409.0473)\n",
        "created an \"attention mechanism\" that allows the decoder to pay\n",
        "attention to certain parts of the input sequence, rather than using the\n",
        "entire fixed context at every step.\n",
        "\n",
        "At a high level, attention is calculated using the decoder's current\n",
        "hidden state and the encoder's outputs. The output attention weights\n",
        "have the same shape as the input sequence, allowing us to multiply them\n",
        "by the encoder outputs, giving us a weighted sum which indicates the\n",
        "parts of encoder output to pay attention to. [Sean\n",
        "Robertson's](https://github.com/spro) figure describes this very well:\n",
        "\n",
        "![](https://pytorch.org/tutorials/_static/img/chatbot/attn2.png){.align-center}\n",
        "\n",
        "[Luong et al.](https://arxiv.org/abs/1508.04025) improved upon Bahdanau\n",
        "et al.'s groundwork by creating \"Global attention\". The key difference\n",
        "is that with \"Global attention\", we consider all of the encoder's hidden\n",
        "states, as opposed to Bahdanau et al.'s \"Local attention\", which only\n",
        "considers the encoder's hidden state from the current time step. Another\n",
        "difference is that with \"Global attention\", we calculate attention\n",
        "weights, or energies, using the hidden state of the decoder from the\n",
        "current time step only. Bahdanau et al.'s attention calculation requires\n",
        "knowledge of the decoder's state from the previous time step. Also,\n",
        "Luong et al. provides various methods to calculate the attention\n",
        "energies between the encoder output and decoder output which are called\n",
        "\"score functions\":\n",
        "\n",
        "![](https://pytorch.org/tutorials/_static/img/chatbot/scores.png){.align-center\n",
        "width=\"60.0%\"}\n",
        "\n",
        "where $h_t$ = current target decoder state and $\\bar{h}_s$ = all encoder\n",
        "states.\n",
        "\n",
        "Overall, the Global attention mechanism can be summarized by the\n",
        "following figure. Note that we will implement the \"Attention Layer\" as a\n",
        "separate `nn.Module` called `Attn`. The output of this module is a\n",
        "softmax normalized weights tensor of shape *(batch\\_size, 1,\n",
        "max\\_length)*.\n",
        "\n",
        "![](https://pytorch.org/tutorials/_static/img/chatbot/global_attn.png){.align-center\n",
        "width=\"60.0%\"}\n"
      ]
    },
    {
      "cell_type": "code",
      "execution_count": 11,
      "metadata": {
        "id": "0X9anB6oIhCp"
      },
      "outputs": [],
      "source": [
        "# Luong attention layer\n",
        "class Attn(nn.Module):\n",
        "    def __init__(self, method, hidden_size):\n",
        "        super(Attn, self).__init__()\n",
        "        self.method = method\n",
        "        if self.method not in ['dot', 'general', 'concat']:\n",
        "            raise ValueError(self.method, \"is not an appropriate attention method.\")\n",
        "        self.hidden_size = hidden_size\n",
        "        if self.method == 'general':\n",
        "            self.attn = nn.Linear(self.hidden_size, hidden_size)\n",
        "        elif self.method == 'concat':\n",
        "            self.attn = nn.Linear(self.hidden_size * 2, hidden_size)\n",
        "            self.v = nn.Parameter(torch.FloatTensor(hidden_size))\n",
        "\n",
        "    def dot_score(self, hidden, encoder_output):\n",
        "        return torch.sum(hidden * encoder_output, dim=2)\n",
        "\n",
        "    def general_score(self, hidden, encoder_output):\n",
        "        energy = self.attn(encoder_output)\n",
        "        return torch.sum(hidden * energy, dim=2)\n",
        "\n",
        "    def concat_score(self, hidden, encoder_output):\n",
        "        energy = self.attn(torch.cat((hidden.expand(encoder_output.size(0), -1, -1), encoder_output), 2)).tanh()\n",
        "        return torch.sum(self.v * energy, dim=2)\n",
        "\n",
        "    def forward(self, hidden, encoder_outputs):\n",
        "        # Calculate the attention weights (energies) based on the given method\n",
        "        if self.method == 'general':\n",
        "            attn_energies = self.general_score(hidden, encoder_outputs)\n",
        "        elif self.method == 'concat':\n",
        "            attn_energies = self.concat_score(hidden, encoder_outputs)\n",
        "        elif self.method == 'dot':\n",
        "            attn_energies = self.dot_score(hidden, encoder_outputs)\n",
        "\n",
        "        # Transpose max_length and batch_size dimensions\n",
        "        attn_energies = attn_energies.t()\n",
        "\n",
        "        # Return the softmax normalized probability scores (with added dimension)\n",
        "        return F.softmax(attn_energies, dim=1).unsqueeze(1)"
      ]
    },
    {
      "cell_type": "markdown",
      "metadata": {
        "id": "XQGXevRyIhCp"
      },
      "source": [
        "Now that we have defined our attention submodule, we can implement the\n",
        "actual decoder model. For the decoder, we will manually feed our batch\n",
        "one time step at a time. This means that our embedded word tensor and\n",
        "GRU output will both have shape *(1, batch\\_size, hidden\\_size)*.\n",
        "\n",
        "**Computation Graph:**\n",
        "\n",
        "> 1)  Get embedding of current input word.\n",
        "> 2)  Forward through unidirectional GRU.\n",
        "> 3)  Calculate attention weights from the current GRU output from (2).\n",
        "> 4)  Multiply attention weights to encoder outputs to get new\n",
        ">     \\\"weighted sum\\\" context vector.\n",
        "> 5)  Concatenate weighted context vector and GRU output using Luong\n",
        ">     eq. 5.\n",
        "> 6)  Predict next word using Luong eq. 6 (without softmax).\n",
        "> 7)  Return output and final hidden state.\n",
        "\n",
        "**Inputs:**\n",
        "\n",
        "-   `input_step`: one time step (one word) of input sequence batch;\n",
        "    shape=*(1, batch\\_size)*\n",
        "-   `last_hidden`: final hidden layer of GRU; shape=*(n\\_layers x\n",
        "    num\\_directions, batch\\_size, hidden\\_size)*\n",
        "-   `encoder_outputs`: encoder model's output; shape=*(max\\_length,\n",
        "    batch\\_size, hidden\\_size)*\n",
        "\n",
        "**Outputs:**\n",
        "\n",
        "-   `output`: softmax normalized tensor giving probabilities of each\n",
        "    word being the correct next word in the decoded sequence;\n",
        "    shape=*(batch\\_size, voc.num\\_words)*\n",
        "-   `hidden`: final hidden state of GRU; shape=*(n\\_layers x\n",
        "    num\\_directions, batch\\_size, hidden\\_size)*\n"
      ]
    },
    {
      "cell_type": "code",
      "execution_count": 12,
      "metadata": {
        "id": "sKt_dmyNIhCp"
      },
      "outputs": [],
      "source": [
        "class LuongAttnDecoderRNN(nn.Module):\n",
        "    def __init__(self, attn_model, embedding, hidden_size, output_size, n_layers=1, dropout=0.1):\n",
        "        super(LuongAttnDecoderRNN, self).__init__()\n",
        "\n",
        "        # Keep for reference\n",
        "        self.attn_model = attn_model\n",
        "        self.hidden_size = hidden_size\n",
        "        self.output_size = output_size\n",
        "        self.n_layers = n_layers\n",
        "        self.dropout = dropout\n",
        "\n",
        "        # Define layers\n",
        "        self.embedding = embedding\n",
        "        self.embedding_dropout = nn.Dropout(dropout)\n",
        "        self.gru = nn.GRU(hidden_size, hidden_size, n_layers, dropout=(0 if n_layers == 1 else dropout))\n",
        "        self.concat = nn.Linear(hidden_size * 2, hidden_size)\n",
        "        self.out = nn.Linear(hidden_size, output_size)\n",
        "\n",
        "        self.attn = Attn(attn_model, hidden_size)\n",
        "\n",
        "    def forward(self, input_step, last_hidden, encoder_outputs):\n",
        "        # Note: we run this one step (word) at a time\n",
        "        # Get embedding of current input word\n",
        "        embedded = self.embedding(input_step)\n",
        "        embedded = self.embedding_dropout(embedded)\n",
        "        # Forward through unidirectional GRU\n",
        "        rnn_output, hidden = self.gru(embedded, last_hidden)\n",
        "        # Calculate attention weights from the current GRU output\n",
        "        attn_weights = self.attn(rnn_output, encoder_outputs)\n",
        "        # Multiply attention weights to encoder outputs to get new \"weighted sum\" context vector\n",
        "        context = attn_weights.bmm(encoder_outputs.transpose(0, 1))\n",
        "        # Concatenate weighted context vector and GRU output using Luong eq. 5\n",
        "        rnn_output = rnn_output.squeeze(0)\n",
        "        context = context.squeeze(1)\n",
        "        concat_input = torch.cat((rnn_output, context), 1)\n",
        "        concat_output = torch.tanh(self.concat(concat_input))\n",
        "        # Predict next word using Luong eq. 6\n",
        "        output = self.out(concat_output)\n",
        "        output = F.softmax(output, dim=1)\n",
        "        # Return output and final hidden state\n",
        "        return output, hidden"
      ]
    },
    {
      "cell_type": "markdown",
      "metadata": {
        "id": "1NdMYtJJIhCp"
      },
      "source": [
        "Define Training Procedure\n",
        "=========================\n",
        "\n",
        "Masked loss\n",
        "-----------\n",
        "\n",
        "Since we are dealing with batches of padded sequences, we cannot simply\n",
        "consider all elements of the tensor when calculating loss. We define\n",
        "`maskNLLLoss` to calculate our loss based on our decoder's output\n",
        "tensor, the target tensor, and a binary mask tensor describing the\n",
        "padding of the target tensor. This loss function calculates the average\n",
        "negative log likelihood of the elements that correspond to a *1* in the\n",
        "mask tensor.\n"
      ]
    },
    {
      "cell_type": "code",
      "execution_count": 13,
      "metadata": {
        "id": "1qijgGaJIhCp"
      },
      "outputs": [],
      "source": [
        "def maskNLLLoss(inp, target, mask):\n",
        "    nTotal = mask.sum()\n",
        "    crossEntropy = -torch.log(torch.gather(inp, 1, target.view(-1, 1)).squeeze(1))\n",
        "    loss = crossEntropy.masked_select(mask).mean()\n",
        "    loss = loss.to(device)\n",
        "    return loss, nTotal.item()"
      ]
    },
    {
      "cell_type": "markdown",
      "metadata": {
        "id": "ZNzRf3OEIhCp"
      },
      "source": [
        "Single training iteration\n",
        "=========================\n",
        "\n",
        "The `train` function contains the algorithm for a single training\n",
        "iteration (a single batch of inputs).\n",
        "\n",
        "We will use a couple of clever tricks to aid in convergence:\n",
        "\n",
        "-   The first trick is using **teacher forcing**. This means that at\n",
        "    some probability, set by `teacher_forcing_ratio`, we use the current\n",
        "    target word as the decoder's next input rather than using the\n",
        "    decoder's current guess. This technique acts as training wheels for\n",
        "    the decoder, aiding in more efficient training. However, teacher\n",
        "    forcing can lead to model instability during inference, as the\n",
        "    decoder may not have a sufficient chance to truly craft its own\n",
        "    output sequences during training. Thus, we must be mindful of how we\n",
        "    are setting the `teacher_forcing_ratio`, and not be fooled by fast\n",
        "    convergence.\n",
        "-   The second trick that we implement is **gradient clipping**. This is\n",
        "    a commonly used technique for countering the \"exploding gradient\"\n",
        "    problem. In essence, by clipping or thresholding gradients to a\n",
        "    maximum value, we prevent the gradients from growing exponentially\n",
        "    and either overflow (NaN), or overshoot steep cliffs in the cost\n",
        "    function.\n",
        "\n",
        "![](https://pytorch.org/tutorials/_static/img/chatbot/grad_clip.png){.align-center\n",
        "width=\"60.0%\"}\n",
        "\n",
        "Image source: Goodfellow et al. *Deep Learning*. 2016.\n",
        "<https://www.deeplearningbook.org/>\n",
        "\n",
        "**Sequence of Operations:**\n",
        "\n",
        "> 1)  Forward pass entire input batch through encoder.\n",
        "> 2)  Initialize decoder inputs as SOS\\_token, and hidden state as the\n",
        ">     encoder\\'s final hidden state.\n",
        "> 3)  Forward input batch sequence through decoder one time step at a\n",
        ">     time.\n",
        "> 4)  If teacher forcing: set next decoder input as the current target;\n",
        ">     else: set next decoder input as current decoder output.\n",
        "> 5)  Calculate and accumulate loss.\n",
        "> 6)  Perform backpropagation.\n",
        "> 7)  Clip gradients.\n",
        "> 8)  Update encoder and decoder model parameters.\n"
      ]
    },
    {
      "cell_type": "code",
      "execution_count": 14,
      "metadata": {
        "id": "Ga0vxWH8IhCp"
      },
      "outputs": [],
      "source": [
        "def train(input_variable, lengths, target_variable, mask, max_target_len, encoder, decoder, embedding,\n",
        "          encoder_optimizer, decoder_optimizer, batch_size, clip, teacher_forcing_ratio, max_length=MAX_LENGTH):\n",
        "\n",
        "    # Zero gradients\n",
        "    encoder_optimizer.zero_grad()\n",
        "    decoder_optimizer.zero_grad()\n",
        "\n",
        "    # Set device options\n",
        "    input_variable = input_variable.to(device)\n",
        "    target_variable = target_variable.to(device)\n",
        "    mask = mask.to(device)\n",
        "    # Lengths for RNN packing should always be on the CPU\n",
        "    lengths = lengths.to(\"cpu\")\n",
        "\n",
        "    # Initialize variables\n",
        "    loss = 0\n",
        "    print_losses = []\n",
        "    n_totals = 0\n",
        "\n",
        "    # Forward pass through encoder\n",
        "    encoder_outputs, encoder_hidden = encoder(input_variable, lengths)\n",
        "\n",
        "    # Create initial decoder input (start with SOS tokens for each sentence)\n",
        "    decoder_input = torch.LongTensor([[SOS_token for _ in range(batch_size)]])\n",
        "    decoder_input = decoder_input.to(device)\n",
        "\n",
        "    # Set initial decoder hidden state to the encoder's final hidden state\n",
        "    decoder_hidden = encoder_hidden[:decoder.n_layers]\n",
        "\n",
        "    # Determine if we are using teacher forcing this iteration\n",
        "    use_teacher_forcing = True if random.random() < teacher_forcing_ratio else False\n",
        "\n",
        "    # Forward batch of sequences through decoder one time step at a time\n",
        "    if use_teacher_forcing:\n",
        "        for t in range(max_target_len):\n",
        "            decoder_output, decoder_hidden = decoder(\n",
        "                decoder_input, decoder_hidden, encoder_outputs\n",
        "            )\n",
        "            # Teacher forcing: next input is current target\n",
        "            decoder_input = target_variable[t].view(1, -1)\n",
        "            # Calculate and accumulate loss\n",
        "            mask_loss, nTotal = maskNLLLoss(decoder_output, target_variable[t], mask[t])\n",
        "            loss += mask_loss\n",
        "            print_losses.append(mask_loss.item() * nTotal)\n",
        "            n_totals += nTotal\n",
        "    else:\n",
        "        for t in range(max_target_len):\n",
        "            decoder_output, decoder_hidden = decoder(\n",
        "                decoder_input, decoder_hidden, encoder_outputs\n",
        "            )\n",
        "            # No teacher forcing: next input is decoder's own current output\n",
        "            _, topi = decoder_output.topk(1)\n",
        "            decoder_input = torch.LongTensor([[topi[i][0] for i in range(batch_size)]])\n",
        "            decoder_input = decoder_input.to(device)\n",
        "            # Calculate and accumulate loss\n",
        "            mask_loss, nTotal = maskNLLLoss(decoder_output, target_variable[t], mask[t])\n",
        "            loss += mask_loss\n",
        "            print_losses.append(mask_loss.item() * nTotal)\n",
        "            n_totals += nTotal\n",
        "\n",
        "    # Perform backpropagation\n",
        "    loss.backward()\n",
        "\n",
        "    # Clip gradients: gradients are modified in place\n",
        "    _ = nn.utils.clip_grad_norm_(encoder.parameters(), clip)\n",
        "    _ = nn.utils.clip_grad_norm_(decoder.parameters(), clip)\n",
        "\n",
        "\n",
        "    # Adjust model weights\n",
        "    encoder_optimizer.step()\n",
        "    decoder_optimizer.step()\n",
        "\n",
        "    return sum(print_losses) / n_totals if n_totals > 0 else 0.0"
      ]
    },
    {
      "cell_type": "markdown",
      "metadata": {
        "id": "6K0bdDB5IhCp"
      },
      "source": [
        "Training iterations\n",
        "===================\n",
        "\n",
        "It is finally time to tie the full training procedure together with the\n",
        "data. The `trainIters` function is responsible for running\n",
        "`n_iterations` of training given the passed models, optimizers, data,\n",
        "etc. This function is quite self explanatory, as we have done the heavy\n",
        "lifting with the `train` function.\n",
        "\n",
        "One thing to note is that when we save our model, we save a tarball\n",
        "containing the encoder and decoder `state_dicts` (parameters), the\n",
        "optimizers' `state_dicts`, the loss, the iteration, etc. Saving the\n",
        "model in this way will give us the ultimate flexibility with the\n",
        "checkpoint. After loading a checkpoint, we will be able to use the model\n",
        "parameters to run inference, or we can continue training right where we\n",
        "left off.\n"
      ]
    },
    {
      "cell_type": "code",
      "execution_count": 15,
      "metadata": {
        "id": "lHuJ_lQgIhCq"
      },
      "outputs": [],
      "source": [
        "def trainIters(model_name, voc, pairs, encoder, decoder, encoder_optimizer, decoder_optimizer, embedding, encoder_n_layers, decoder_n_layers, save_dir, n_iteration, batch_size, print_every, save_every, clip, corpus_name, loadFilename, teacher_forcing_ratio, wandb):\n",
        "\n",
        "    # Load batches for each iteration\n",
        "    training_batches = [batch2TrainData(voc, [random.choice(pairs) for _ in range(batch_size)])\n",
        "                      for _ in range(n_iteration)]\n",
        "\n",
        "    # Initializations\n",
        "    print('Initializing ...')\n",
        "    start_iteration = 1\n",
        "    print_loss = 0\n",
        "    if loadFilename:\n",
        "        start_iteration = checkpoint['iteration'] + 1\n",
        "\n",
        "    # Training loop\n",
        "    print(\"Training...\")\n",
        "    total_loss = 0  # Initialize total loss tracker\n",
        "    for iteration in range(start_iteration, n_iteration + 1):\n",
        "        training_batch = training_batches[iteration - 1]\n",
        "        # Extract fields from batch\n",
        "        input_variable, lengths, target_variable, mask, max_target_len = training_batch\n",
        "\n",
        "        # Run a training iteration with batch\n",
        "        loss = train(input_variable, lengths, target_variable, mask, max_target_len, encoder,\n",
        "                     decoder, embedding, encoder_optimizer, decoder_optimizer, batch_size, clip, teacher_forcing_ratio)\n",
        "        print_loss += loss\n",
        "        total_loss += loss  # Accumulate total loss\n",
        "\n",
        "        # Log loss at each iteration\n",
        "\n",
        "        wandb.log({'loss': loss})  # Log only numerical metrics like loss\n",
        "\n",
        "        # Store iteration and optimizer in config (not as a metric in panels)\n",
        "        wandb.config.update({'iteration': iteration}, allow_val_change=True)\n",
        "\n",
        "        # Print progress\n",
        "        if iteration % print_every == 0:\n",
        "            print_loss_avg = print_loss / print_every # Average loss\n",
        "            wandb.log({\"average_loss\": print_loss_avg})\n",
        "            wandb.config.update({'iteration': iteration}, allow_val_change=True)\n",
        "            print(\"Iteration: {}; Percent complete: {:.1f}%; Average loss: {:.4f}\".format(iteration, iteration / n_iteration * 100, print_loss_avg))\n",
        "            print_loss = 0\n",
        "\n",
        "        # Save checkpoint\n",
        "        if (iteration % save_every == 0):\n",
        "            directory = os.path.join(save_dir, model_name, corpus_name, '{}-{}_{}'.format(encoder_n_layers, decoder_n_layers, hidden_size))\n",
        "            if not os.path.exists(directory):\n",
        "                os.makedirs(directory)\n",
        "            torch.save({\n",
        "                'iteration': iteration,\n",
        "                'en': encoder.state_dict(),\n",
        "                'de': decoder.state_dict(),\n",
        "                'en_opt': encoder_optimizer.state_dict(),\n",
        "                'de_opt': decoder_optimizer.state_dict(),\n",
        "                'loss': loss,\n",
        "                'voc_dict': voc.__dict__,\n",
        "                'embedding': embedding.state_dict()\n",
        "            }, os.path.join(directory, '{}_{}.tar'.format(iteration, 'checkpoint')))\n",
        "\n",
        "    return total_loss / n_iteration  # Return the final average loss\n"
      ]
    },
    {
      "cell_type": "markdown",
      "metadata": {
        "id": "Jdzeljp2IhCq"
      },
      "source": [
        "Define Evaluation\n",
        "=================\n",
        "\n",
        "After training a model, we want to be able to talk to the bot ourselves.\n",
        "First, we must define how we want the model to decode the encoded input.\n",
        "\n",
        "Greedy decoding\n",
        "---------------\n",
        "\n",
        "Greedy decoding is the decoding method that we use during training when\n",
        "we are **NOT** using teacher forcing. In other words, for each time\n",
        "step, we simply choose the word from `decoder_output` with the highest\n",
        "softmax value. This decoding method is optimal on a single time-step\n",
        "level.\n",
        "\n",
        "To facilitate the greedy decoding operation, we define a\n",
        "`GreedySearchDecoder` class. When run, an object of this class takes an\n",
        "input sequence (`input_seq`) of shape *(input\\_seq length, 1)*, a scalar\n",
        "input length (`input_length`) tensor, and a `max_length` to bound the\n",
        "response sentence length. The input sentence is evaluated using the\n",
        "following computational graph:\n",
        "\n",
        "**Computation Graph:**\n",
        "\n",
        "> 1)  Forward input through encoder model.\n",
        ">\n",
        "> 2)  Prepare encoder\\'s final hidden layer to be first hidden input to\n",
        ">     the decoder.\n",
        ">\n",
        "> 3)  Initialize decoder\\'s first input as SOS\\_token.\n",
        ">\n",
        "> 4)  Initialize tensors to append decoded words to.\n",
        ">\n",
        "> 5)  \n",
        ">\n",
        ">     Iteratively decode one word token at a time:\n",
        ">\n",
        ">     :   a)  Forward pass through decoder.\n",
        ">         b)  Obtain most likely word token and its softmax score.\n",
        ">         c)  Record token and score.\n",
        ">         d)  Prepare current token to be next decoder input.\n",
        ">\n",
        "> 6)  Return collections of word tokens and scores.\n"
      ]
    },
    {
      "cell_type": "code",
      "execution_count": 16,
      "metadata": {
        "id": "Z1icRJcFIhCq"
      },
      "outputs": [],
      "source": [
        "class GreedySearchDecoder(nn.Module):\n",
        "    def __init__(self, encoder, decoder):\n",
        "        super(GreedySearchDecoder, self).__init__()\n",
        "        self.encoder = encoder\n",
        "        self.decoder = decoder\n",
        "\n",
        "    def forward(self, input_seq, input_length, max_length):\n",
        "        # Forward input through encoder model\n",
        "        encoder_outputs, encoder_hidden = self.encoder(input_seq, input_length)\n",
        "        # Prepare encoder's final hidden layer to be first hidden input to the decoder\n",
        "        decoder_hidden = encoder_hidden[:self.decoder.n_layers]\n",
        "        # Initialize decoder input with SOS_token\n",
        "        decoder_input = torch.ones(1, 1, device=device, dtype=torch.long) * SOS_token\n",
        "        # Initialize tensors to append decoded words to\n",
        "        all_tokens = torch.zeros([0], device=device, dtype=torch.long)\n",
        "        all_scores = torch.zeros([0], device=device)\n",
        "        # Iteratively decode one word token at a time\n",
        "        for _ in range(max_length):\n",
        "            # Forward pass through decoder\n",
        "            decoder_output, decoder_hidden = self.decoder(decoder_input, decoder_hidden, encoder_outputs)\n",
        "            # Obtain most likely word token and its softmax score\n",
        "            decoder_scores, decoder_input = torch.max(decoder_output, dim=1)\n",
        "            # Record token and score\n",
        "            all_tokens = torch.cat((all_tokens, decoder_input), dim=0)\n",
        "            all_scores = torch.cat((all_scores, decoder_scores), dim=0)\n",
        "            # Prepare current token to be next decoder input (add a dimension)\n",
        "            decoder_input = torch.unsqueeze(decoder_input, 0)\n",
        "        # Return collections of word tokens and scores\n",
        "        return all_tokens, all_scores"
      ]
    },
    {
      "cell_type": "markdown",
      "metadata": {
        "id": "0b5hGyUyIhCq"
      },
      "source": [
        "Evaluate my text\n",
        "================\n",
        "\n",
        "Now that we have our decoding method defined, we can write functions for\n",
        "evaluating a string input sentence. The `evaluate` function manages the\n",
        "low-level process of handling the input sentence. We first format the\n",
        "sentence as an input batch of word indexes with *batch\\_size==1*. We do\n",
        "this by converting the words of the sentence to their corresponding\n",
        "indexes, and transposing the dimensions to prepare the tensor for our\n",
        "models. We also create a `lengths` tensor which contains the length of\n",
        "our input sentence. In this case, `lengths` is scalar because we are\n",
        "only evaluating one sentence at a time (batch\\_size==1). Next, we obtain\n",
        "the decoded response sentence tensor using our `GreedySearchDecoder`\n",
        "object (`searcher`). Finally, we convert the response's indexes to words\n",
        "and return the list of decoded words.\n",
        "\n",
        "`evaluateInput` acts as the user interface for our chatbot. When called,\n",
        "an input text field will spawn in which we can enter our query sentence.\n",
        "After typing our input sentence and pressing *Enter*, our text is\n",
        "normalized in the same way as our training data, and is ultimately fed\n",
        "to the `evaluate` function to obtain a decoded output sentence. We loop\n",
        "this process, so we can keep chatting with our bot until we enter either\n",
        "\"q\" or \"quit\".\n",
        "\n",
        "Finally, if a sentence is entered that contains a word that is not in\n",
        "the vocabulary, we handle this gracefully by printing an error message\n",
        "and prompting the user to enter another sentence.\n"
      ]
    },
    {
      "cell_type": "code",
      "execution_count": 17,
      "metadata": {
        "id": "agIHyeZ_IhCq"
      },
      "outputs": [],
      "source": [
        "def evaluate(encoder, decoder, searcher, voc, sentence, max_length=MAX_LENGTH):\n",
        "    ### Format input sentence as a batch\n",
        "    # words -> indexes\n",
        "    indexes_batch = [indexesFromSentence(voc, sentence)]\n",
        "    # Create lengths tensor\n",
        "    lengths = torch.tensor([len(indexes) for indexes in indexes_batch])\n",
        "    # Transpose dimensions of batch to match models' expectations\n",
        "    input_batch = torch.LongTensor(indexes_batch).transpose(0, 1)\n",
        "    # Use appropriate device\n",
        "    input_batch = input_batch.to(device)\n",
        "    lengths = lengths.to(\"cpu\")\n",
        "    # Decode sentence with searcher\n",
        "    tokens, scores = searcher(input_batch, lengths, max_length)\n",
        "    # indexes -> words\n",
        "    decoded_words = [voc.index2word[token.item()] for token in tokens]\n",
        "    return decoded_words\n",
        "\n",
        "\n",
        "def evaluateInput(encoder, decoder, searcher, voc):\n",
        "    input_sentence = ''\n",
        "    while(1):\n",
        "        try:\n",
        "            # Get input sentence\n",
        "            input_sentence = input('> ')\n",
        "            # Check if it is quit case\n",
        "            if input_sentence == 'q' or input_sentence == 'quit': break\n",
        "            # Normalize sentence\n",
        "            input_sentence = normalizeString(input_sentence)\n",
        "            # Evaluate sentence\n",
        "            output_words = evaluate(encoder, decoder, searcher, voc, input_sentence)\n",
        "            # Format and print response sentence\n",
        "            output_words[:] = [x for x in output_words if not (x == 'EOS' or x == 'PAD')]\n",
        "            print('Bot:', ' '.join(output_words))\n",
        "\n",
        "        except KeyError:\n",
        "            print(\"Error: Encountered unknown word.\")"
      ]
    },
    {
      "cell_type": "markdown",
      "metadata": {
        "id": "4RmBX_enIhCr"
      },
      "source": [
        "Run Model\n",
        "=========\n",
        "\n",
        "Finally, it is time to run our model!\n",
        "\n",
        "Regardless of whether we want to train or test the chatbot model, we\n",
        "must initialize the individual encoder and decoder models. In the\n",
        "following block, we set our desired configurations, choose to start from\n",
        "scratch or set a checkpoint to load from, and build and initialize the\n",
        "models. Feel free to play with different model configurations to\n",
        "optimize performance.\n"
      ]
    },
    {
      "cell_type": "code",
      "execution_count": 18,
      "metadata": {
        "id": "fwYCD4A0IhCr"
      },
      "outputs": [],
      "source": [
        "# Configure models\n",
        "model_name = 'cb_model'\n",
        "attn_model = 'dot'\n",
        "#``attn_model = 'general'``\n",
        "#``attn_model = 'concat'``\n",
        "hidden_size = 500\n",
        "encoder_n_layers = 2\n",
        "decoder_n_layers = 2\n",
        "dropout = 0.1\n",
        "batch_size = 64\n",
        "\n",
        "# Set checkpoint to load from; set to None if starting from scratch\n",
        "loadFilename = None\n",
        "checkpoint_iter = 4000"
      ]
    },
    {
      "cell_type": "markdown",
      "metadata": {
        "id": "hD_tpi96IhCr"
      },
      "source": [
        "Sample code to load from a checkpoint:\n",
        "\n",
        "``` {.python}\n",
        "loadFilename = os.path.join(save_dir, model_name, corpus_name,\n",
        "                    '{}-{}_{}'.format(encoder_n_layers, decoder_n_layers, hidden_size),\n",
        "                    '{}_checkpoint.tar'.format(checkpoint_iter))\n",
        "```\n"
      ]
    },
    {
      "cell_type": "code",
      "execution_count": 19,
      "metadata": {
        "id": "9FGDltK1IhCr",
        "colab": {
          "base_uri": "https://localhost:8080/"
        },
        "outputId": "7746b51e-17a5-4ed1-ee43-0745d451d7db"
      },
      "outputs": [
        {
          "output_type": "stream",
          "name": "stdout",
          "text": [
            "Building encoder and decoder ...\n",
            "Models built and ready to go!\n"
          ]
        }
      ],
      "source": [
        "# Load model if a ``loadFilename`` is provided\n",
        "if loadFilename:\n",
        "    # If loading on same machine the model was trained on\n",
        "    checkpoint = torch.load(loadFilename)\n",
        "    # If loading a model trained on GPU to CPU\n",
        "    #checkpoint = torch.load(loadFilename, map_location=torch.device('cpu'))\n",
        "    encoder_sd = checkpoint['en']\n",
        "    decoder_sd = checkpoint['de']\n",
        "    encoder_optimizer_sd = checkpoint['en_opt']\n",
        "    decoder_optimizer_sd = checkpoint['de_opt']\n",
        "    embedding_sd = checkpoint['embedding']\n",
        "    voc.__dict__ = checkpoint['voc_dict']\n",
        "\n",
        "\n",
        "print('Building encoder and decoder ...')\n",
        "# Initialize word embeddings\n",
        "embedding = nn.Embedding(voc.num_words, hidden_size)\n",
        "if loadFilename:\n",
        "    embedding.load_state_dict(embedding_sd)\n",
        "# Initialize encoder & decoder models\n",
        "encoder = EncoderRNN(hidden_size, embedding, encoder_n_layers, dropout)\n",
        "decoder = LuongAttnDecoderRNN(attn_model, embedding, hidden_size, voc.num_words, decoder_n_layers, dropout)\n",
        "if loadFilename:\n",
        "    encoder.load_state_dict(encoder_sd)\n",
        "    decoder.load_state_dict(decoder_sd)\n",
        "# Use appropriate device\n",
        "encoder = encoder.to(device)\n",
        "decoder = decoder.to(device)\n",
        "print('Models built and ready to go!')"
      ]
    },
    {
      "cell_type": "markdown",
      "metadata": {
        "id": "ppnUEyI3IhCr"
      },
      "source": [
        "Run Training\n",
        "============\n",
        "\n",
        "Run the following block if you want to train the model.\n",
        "\n",
        "First we set training parameters, then we initialize our optimizers, and\n",
        "finally we call the `trainIters` function to run our training\n",
        "iterations.\n"
      ]
    },
    {
      "cell_type": "code",
      "execution_count": 20,
      "metadata": {
        "id": "KFsZXxCmIhCr"
      },
      "outputs": [],
      "source": [
        "# # Configure training/optimization\n",
        "# clip = 50.0\n",
        "# teacher_forcing_ratio = 1.0\n",
        "# learning_rate = 0.0001\n",
        "# decoder_learning_ratio = 5.0\n",
        "# n_iteration = 4000\n",
        "# print_every = 1\n",
        "# save_every = 500\n",
        "\n",
        "# # Ensure dropout layers are in train mode\n",
        "# encoder.train()\n",
        "# decoder.train()\n",
        "\n",
        "# # Initialize optimizers\n",
        "# print('Building optimizers ...')\n",
        "# encoder_optimizer = optim.Adam(encoder.parameters(), lr=learning_rate)\n",
        "# decoder_optimizer = optim.Adam(decoder.parameters(), lr=learning_rate * decoder_learning_ratio)\n",
        "# if loadFilename:\n",
        "#     encoder_optimizer.load_state_dict(encoder_optimizer_sd)\n",
        "#     decoder_optimizer.load_state_dict(decoder_optimizer_sd)\n",
        "\n",
        "# # If you have an accelerator, configure it to call\n",
        "# for state in encoder_optimizer.state.values():\n",
        "#     for k, v in state.items():\n",
        "#         if isinstance(v, torch.Tensor):\n",
        "#             state[k] = v.to(device)\n",
        "\n",
        "# for state in decoder_optimizer.state.values():\n",
        "#     for k, v in state.items():\n",
        "#         if isinstance(v, torch.Tensor):\n",
        "#             state[k] = v.to(device)\n",
        "\n",
        "# # Run training iterations\n",
        "# print(\"Starting Training!\")\n",
        "# trainIters(model_name, voc, pairs, encoder, decoder, encoder_optimizer, decoder_optimizer,\n",
        "#            embedding, encoder_n_layers, decoder_n_layers, save_dir, n_iteration, batch_size,\n",
        "#            print_every, save_every, clip, corpus_name, loadFilename)"
      ]
    },
    {
      "cell_type": "markdown",
      "metadata": {
        "id": "KaCmDNW0IhCr"
      },
      "source": [
        "Run Evaluation\n",
        "==============\n",
        "\n",
        "To chat with your model, run the following block.\n"
      ]
    },
    {
      "cell_type": "code",
      "execution_count": 21,
      "metadata": {
        "id": "3cwHMOWPIhCr"
      },
      "outputs": [],
      "source": [
        "# Set dropout layers to ``eval`` mode\n",
        "encoder.eval()\n",
        "decoder.eval()\n",
        "\n",
        "# Initialize search module\n",
        "searcher = GreedySearchDecoder(encoder, decoder)"
      ]
    },
    {
      "cell_type": "code",
      "source": [
        "# Begin chatting (uncomment and run the following line to begin)\n",
        "#evaluateInput(encoder, decoder, searcher, voc)"
      ],
      "metadata": {
        "id": "vmI7gyszJcRB"
      },
      "execution_count": 22,
      "outputs": []
    },
    {
      "cell_type": "markdown",
      "metadata": {
        "id": "rOHOy6DhIhCr"
      },
      "source": [
        "Conclusion\n",
        "==========\n",
        "\n",
        "That's all for this one, folks. Congratulations, you now know the\n",
        "fundamentals to building a generative chatbot model! If you're\n",
        "interested, you can try tailoring the chatbot's behavior by tweaking the\n",
        "model and training parameters and customizing the data that you train\n",
        "the model on.\n",
        "\n",
        "Check out the other tutorials for more cool deep learning applications\n",
        "in PyTorch!\n"
      ]
    },
    {
      "cell_type": "markdown",
      "source": [
        "P1: Q2, Q3, Q4"
      ],
      "metadata": {
        "id": "bG8Urv6foGdp"
      }
    },
    {
      "cell_type": "code",
      "source": [
        "!pip install wandb -qU\n",
        "import wandb\n",
        "wandb.login()"
      ],
      "metadata": {
        "id": "jppVMKtpKi8O",
        "colab": {
          "base_uri": "https://localhost:8080/",
          "height": 218
        },
        "outputId": "a1009d3f-767e-4ce3-c753-6ade6948324d"
      },
      "execution_count": 23,
      "outputs": [
        {
          "output_type": "stream",
          "name": "stderr",
          "text": [
            "\u001b[34m\u001b[1mwandb\u001b[0m: Using wandb-core as the SDK backend.  Please refer to https://wandb.me/wandb-core for more information.\n"
          ]
        },
        {
          "output_type": "display_data",
          "data": {
            "text/plain": [
              "<IPython.core.display.Javascript object>"
            ],
            "application/javascript": [
              "\n",
              "        window._wandbApiKey = new Promise((resolve, reject) => {\n",
              "            function loadScript(url) {\n",
              "            return new Promise(function(resolve, reject) {\n",
              "                let newScript = document.createElement(\"script\");\n",
              "                newScript.onerror = reject;\n",
              "                newScript.onload = resolve;\n",
              "                document.body.appendChild(newScript);\n",
              "                newScript.src = url;\n",
              "            });\n",
              "            }\n",
              "            loadScript(\"https://cdn.jsdelivr.net/npm/postmate/build/postmate.min.js\").then(() => {\n",
              "            const iframe = document.createElement('iframe')\n",
              "            iframe.style.cssText = \"width:0;height:0;border:none\"\n",
              "            document.body.appendChild(iframe)\n",
              "            const handshake = new Postmate({\n",
              "                container: iframe,\n",
              "                url: 'https://wandb.ai/authorize'\n",
              "            });\n",
              "            const timeout = setTimeout(() => reject(\"Couldn't auto authenticate\"), 5000)\n",
              "            handshake.then(function(child) {\n",
              "                child.on('authorize', data => {\n",
              "                    clearTimeout(timeout)\n",
              "                    resolve(data)\n",
              "                });\n",
              "            });\n",
              "            })\n",
              "        });\n",
              "    "
            ]
          },
          "metadata": {}
        },
        {
          "output_type": "stream",
          "name": "stderr",
          "text": [
            "\u001b[34m\u001b[1mwandb\u001b[0m: Logging into wandb.ai. (Learn how to deploy a W&B server locally: https://wandb.me/wandb-server)\n",
            "\u001b[34m\u001b[1mwandb\u001b[0m: You can find your API key in your browser here: https://wandb.ai/authorize\n",
            "wandb: Paste an API key from your profile and hit enter:"
          ]
        },
        {
          "name": "stdout",
          "output_type": "stream",
          "text": [
            " ··········\n"
          ]
        },
        {
          "output_type": "stream",
          "name": "stderr",
          "text": [
            "\u001b[34m\u001b[1mwandb\u001b[0m: \u001b[33mWARNING\u001b[0m If you're specifying your api key in code, ensure this code is not shared publicly.\n",
            "\u001b[34m\u001b[1mwandb\u001b[0m: \u001b[33mWARNING\u001b[0m Consider setting the WANDB_API_KEY environment variable, or running `wandb login` from the command line.\n",
            "\u001b[34m\u001b[1mwandb\u001b[0m: No netrc file found, creating one.\n",
            "\u001b[34m\u001b[1mwandb\u001b[0m: Appending key for api.wandb.ai to your netrc file: /root/.netrc\n",
            "\u001b[34m\u001b[1mwandb\u001b[0m: Currently logged in as: \u001b[33mga2664\u001b[0m (\u001b[33mga2664-new-york-university\u001b[0m) to \u001b[32mhttps://api.wandb.ai\u001b[0m. Use \u001b[1m`wandb login --relogin`\u001b[0m to force relogin\n"
          ]
        },
        {
          "output_type": "execute_result",
          "data": {
            "text/plain": [
              "True"
            ]
          },
          "metadata": {},
          "execution_count": 23
        }
      ]
    },
    {
      "cell_type": "code",
      "source": [
        "sweep_config = {\n",
        "    \"name\": \"hyperparameter_sweep\",\n",
        "    'metric': {'goal': 'minimize', 'name': 'loss'},\n",
        "    \"method\": \"random\",\n",
        "    \"parameters\": {\n",
        "\n",
        "        \"learning_rate\": {\n",
        "            \"values\": [0.0001, 0.00025, 0.0005, 0.001]\n",
        "        },\n",
        "        \"optimizer\": {\n",
        "            \"values\": [\"adam\", \"sgd\"]\n",
        "        },\n",
        "        \"clip\": {\n",
        "            \"values\": [0, 25, 50, 100]\n",
        "        },\n",
        "        \"teacher_forcing_ratio\": {\n",
        "            \"values\": [0, 0.5, 1.0]\n",
        "        },\n",
        "        \"decoder_learning_ratio\": {\n",
        "            \"values\": [1.0, 3.0, 5.0, 10.0]\n",
        "        }\n",
        "    }\n",
        "}\n",
        "# Configure models\n",
        "model_name = 'cb_model_wandb'\n",
        "attn_model = 'dot'\n",
        "hidden_size = 500\n",
        "encoder_n_layers = 2\n",
        "decoder_n_layers = 2\n",
        "dropout = 0.1\n",
        "batch_size = 64\n",
        "\n",
        "\n",
        "def wandb_train():\n",
        "    # Initialize a new WandB run\n",
        "    wandb.init()\n",
        "\n",
        "    # Set the hyperparameters for this run\n",
        "    config = wandb.config\n",
        "\n",
        "    # Use the hyperparameters passed from the sweep\n",
        "    learning_rate = config.learning_rate\n",
        "    optimizer = config.optimizer\n",
        "    clip = config.clip\n",
        "    teacher_forcing_ratio = config.teacher_forcing_ratio\n",
        "    decoder_learning_ratio = config.decoder_learning_ratio\n",
        "\n",
        "    print('Building encoder and decoder ...')\n",
        "    # Initialize word embeddings\n",
        "    embedding = nn.Embedding(voc.num_words, hidden_size)\n",
        "\n",
        "    print(f\"Training with LR={learning_rate}, Optimizer={optimizer}, Clip={clip}, Teacher Forcing={teacher_forcing_ratio}\")\n",
        "\n",
        "    # Initialize encoder & decoder models\n",
        "    encoder = EncoderRNN(hidden_size, embedding, encoder_n_layers, dropout)\n",
        "    decoder = LuongAttnDecoderRNN(attn_model, embedding, hidden_size, voc.num_words, decoder_n_layers, dropout)\n",
        "\n",
        "    # Use appropriate device\n",
        "    encoder = encoder.to(device)\n",
        "    decoder = decoder.to(device)\n",
        "    print('Models built and ready to go!')\n",
        "\n",
        "\n",
        "    n_iteration = 4000\n",
        "    print_every = 500\n",
        "    save_every=500\n",
        "    loadFilename=None\n",
        "\n",
        "    # Ensure dropout layers are in train mode\n",
        "    encoder.train()\n",
        "    decoder.train()\n",
        "\n",
        "    # Initialize optimizers\n",
        "    print('Building optimizers ...')\n",
        "    if config.optimizer.lower() == 'adam':\n",
        "      encoder_optimizer = optim.Adam(encoder.parameters(), lr=config.learning_rate)\n",
        "      decoder_optimizer = optim.Adam(decoder.parameters(), lr=config.learning_rate * config.decoder_learning_ratio)\n",
        "    elif config.optimizer.lower() == 'sgd':\n",
        "      encoder_optimizer = optim.SGD(encoder.parameters(), lr=config.learning_rate)\n",
        "      decoder_optimizer = optim.SGD(decoder.parameters(), lr=config.learning_rate * config.decoder_learning_ratio)\n",
        "    else:\n",
        "      raise ValueError(f\"Unsupported optimizer: {config.optimizer}\")\n",
        "\n",
        "\n",
        "    # If using CUDA, move optimizer states to CUDAl\n",
        "    for state in encoder_optimizer.state.values():\n",
        "        for k, v in state.items():\n",
        "            if isinstance(v, torch.Tensor):\n",
        "                state[k] = v.cuda()\n",
        "\n",
        "    for state in decoder_optimizer.state.values():\n",
        "        for k, v in state.items():\n",
        "            if isinstance(v, torch.Tensor):\n",
        "                state[k] = v.cuda()\n",
        "\n",
        "\n",
        "    # Run training iterations\n",
        "    print(\"Starting Training!\")\n",
        "    loss = trainIters(model_name, voc, pairs, encoder, decoder, encoder_optimizer, decoder_optimizer,\n",
        "              embedding, encoder_n_layers, decoder_n_layers, save_dir, n_iteration, batch_size,\n",
        "              print_every, save_every, config.clip, corpus_name, loadFilename, config.teacher_forcing_ratio, wandb )\n",
        "\n",
        "    # Log the loss and hyperparameters for this run\n",
        "    # wandb.log({'loss': loss})\n",
        "    wandb.log({'loss': loss, 'learning_rate': config.learning_rate, 'clip': config.clip,\n",
        "              'teacher_forcing_ratio': config.teacher_forcing_ratio, 'decoder_learning_ratio': config.decoder_learning_ratio})\n",
        "    wandb.config.update({'optimizer': config.optimizer}, allow_val_change=True)\n",
        "\n",
        "    # Finish the WandB run\n",
        "    wandb.finish()\n",
        "\n",
        "\n",
        "\n",
        "#Initialize a new sweep\n",
        "sweep_id = wandb.sweep(sweep_config, project='chatbot')\n",
        "\n",
        "# Run the sweep\n",
        "wandb.agent(sweep_id, function=wandb_train, count=50)\n"
      ],
      "metadata": {
        "id": "xAzmAJyPLSLj",
        "colab": {
          "base_uri": "https://localhost:8080/",
          "height": 182
        },
        "outputId": "72799b5f-2a54-407e-e536-b26d4082b017"
      },
      "execution_count": 24,
      "outputs": [
        {
          "output_type": "stream",
          "name": "stdout",
          "text": [
            "Create sweep with ID: ert6v4rm\n",
            "Sweep URL: https://wandb.ai/ga2664-new-york-university/chatbot/sweeps/ert6v4rm\n"
          ]
        },
        {
          "output_type": "stream",
          "name": "stderr",
          "text": [
            "\u001b[34m\u001b[1mwandb\u001b[0m: Agent Starting Run: uos75wyl with config:\n",
            "\u001b[34m\u001b[1mwandb\u001b[0m: \tclip: 0\n",
            "\u001b[34m\u001b[1mwandb\u001b[0m: \tdecoder_learning_ratio: 5\n",
            "\u001b[34m\u001b[1mwandb\u001b[0m: \tlearning_rate: 0.00025\n",
            "\u001b[34m\u001b[1mwandb\u001b[0m: \toptimizer: adam\n",
            "\u001b[34m\u001b[1mwandb\u001b[0m: \tteacher_forcing_ratio: 0\n",
            "\u001b[34m\u001b[1mwandb\u001b[0m: Ctrl + C detected. Stopping sweep.\n"
          ]
        }
      ]
    },
    {
      "cell_type": "markdown",
      "source": [
        "Q 6,7,8"
      ],
      "metadata": {
        "id": "TjYH2eZ70cVM"
      }
    },
    {
      "cell_type": "code",
      "source": [
        "import torch.optim as optim\n",
        "from torch.profiler import profile, record_function, ProfilerActivity\n",
        "import os\n",
        "\n",
        "# Set device\n",
        "device = torch.device(\"cuda\" if torch.cuda.is_available() else \"cpu\")\n",
        "\n",
        "# Best Hyperparameters (Manually Set from Q6)\n",
        "model_name = 'cb_model_bestloss'\n",
        "attn_model = 'dot'\n",
        "hidden_size = 500\n",
        "encoder_n_layers = 2\n",
        "decoder_n_layers = 2\n",
        "dropout = 0.1\n",
        "batch_size = 64\n",
        "learning_rate = 0.0005  # Best LR from Q6\n",
        "clip = 100\n",
        "teacher_forcing_ratio = 1  # Best from Q6\n",
        "decoder_learning_ratio = 3  # Best from Q6\n",
        "n_iteration = 4000\n",
        "print_every = 500\n",
        "save_every = 4000\n",
        "\n",
        "# Path to Save Best Model\n",
        "save_path = f\"data/save/{model_name}.pth\"\n",
        "\n",
        "# Initialize word embeddings\n",
        "embedding = nn.Embedding(voc.num_words, hidden_size)\n",
        "\n",
        "# Initialize encoder & decoder models\n",
        "encoder = EncoderRNN(hidden_size, embedding, encoder_n_layers, dropout).to(device)\n",
        "decoder = LuongAttnDecoderRNN(attn_model, embedding, hidden_size, voc.num_words, decoder_n_layers, dropout).to(device)\n",
        "\n",
        "# Initialize optimizers\n",
        "encoder_optimizer = optim.Adam(encoder.parameters(), lr=learning_rate)\n",
        "decoder_optimizer = optim.Adam(decoder.parameters(), lr=learning_rate * decoder_learning_ratio)\n",
        "\n",
        "# Move optimizer states to correct device\n",
        "for optimizer in [encoder_optimizer, decoder_optimizer]:\n",
        "    for state in optimizer.state.values():\n",
        "        for k, v in state.items():\n",
        "            if isinstance(v, torch.Tensor):\n",
        "                state[k] = v.to(device)\n",
        "\n",
        "# Ensure dropout layers are in train mode\n",
        "encoder.train()\n",
        "decoder.train()\n",
        "\n",
        "# Training Function\n",
        "def trainIters(model_name, voc, pairs, encoder, decoder, encoder_optimizer, decoder_optimizer, embedding,\n",
        "               encoder_n_layers, decoder_n_layers, save_dir, n_iteration, batch_size, print_every, save_every,\n",
        "               clip, corpus_name, loadFilename):\n",
        "\n",
        "    # Load batches for each iteration\n",
        "    training_batches = [batch2TrainData(voc, [random.choice(pairs) for _ in range(batch_size)])\n",
        "                        for _ in range(n_iteration)]\n",
        "\n",
        "    # Initializations\n",
        "    print('Initializing training...')\n",
        "    start_iteration = 1\n",
        "    print_loss = 0\n",
        "\n",
        "    # Training loop\n",
        "    print(\"Training...\")\n",
        "    for iteration in range(start_iteration, n_iteration + 1):\n",
        "        training_batch = training_batches[iteration - 1]\n",
        "        # Extract fields from batch\n",
        "        input_variable, lengths, target_variable, mask, max_target_len = training_batch\n",
        "\n",
        "        # Run a training iteration with batch\n",
        "        loss = train(input_variable, lengths, target_variable, mask, max_target_len, encoder,\n",
        "                     decoder, embedding, encoder_optimizer, decoder_optimizer, batch_size, clip, teacher_forcing_ratio)\n",
        "        print_loss += loss\n",
        "\n",
        "        # Print progress\n",
        "        if iteration % print_every == 0:\n",
        "            print_loss_avg = print_loss / print_every\n",
        "            print(f\"Iteration: {iteration}; Percent complete: {iteration / n_iteration * 100:.1f}%; Average loss: {print_loss_avg:.4f}\")\n",
        "            print_loss = 0\n",
        "\n",
        "        # Save checkpoint\n",
        "        if (iteration % save_every == 0):\n",
        "            directory = os.path.join(save_dir, model_name, corpus_name, f'{encoder_n_layers}-{decoder_n_layers}_{hidden_size}')\n",
        "            if not os.path.exists(directory):\n",
        "                os.makedirs(directory)\n",
        "            torch.save({\n",
        "                'iteration': iteration,\n",
        "                'encoder_state_dict': encoder.state_dict(),\n",
        "                'decoder_state_dict': decoder.state_dict(),\n",
        "                'encoder_optimizer_state_dict': encoder_optimizer.state_dict(),\n",
        "                'decoder_optimizer_state_dict': decoder_optimizer.state_dict(),\n",
        "                'embedding_state_dict': embedding.state_dict(),\n",
        "                'loss': loss\n",
        "            }, os.path.join(directory, f'{iteration}_checkpoint.tar'))\n",
        "\n",
        "# Start Training & Save Best Model\n",
        "print(\" Starting Training!\")\n",
        "# trainIters(model_name, voc, pairs, encoder, decoder, encoder_optimizer, decoder_optimizer,\n",
        "#            embedding, encoder_n_layers, decoder_n_layers, save_dir, n_iteration, batch_size,\n",
        "#            print_every, save_every, clip, corpus_name, None)\n",
        "trainIters(model_name, voc, pairs, encoder, decoder, encoder_optimizer, decoder_optimizer,\n",
        "           embedding, encoder_n_layers, decoder_n_layers, \"data/save\", n_iteration, batch_size,\n",
        "           print_every, save_every, clip, \"movie-corpus\", None)\n",
        "\n",
        "# Save Best Model (Q7)\n",
        "print(f\" Saving best model to {save_path}...\")\n",
        "torch.save({\n",
        "    'encoder_state_dict': encoder.state_dict(),\n",
        "    'decoder_state_dict': decoder.state_dict(),\n",
        "    'encoder_optimizer_state_dict': encoder_optimizer.state_dict(),\n",
        "    'decoder_optimizer_state_dict': decoder_optimizer.state_dict(),\n",
        "    'embedding_state_dict': embedding.state_dict(),\n",
        "    'hyperparams': {\n",
        "        \"learning_rate\": learning_rate,\n",
        "        \"clip\": clip,\n",
        "        \"teacher_forcing_ratio\": teacher_forcing_ratio,\n",
        "        \"decoder_learning_ratio\": decoder_learning_ratio\n",
        "    }\n",
        "}, save_path)\n",
        "print(\"Model saved successfully!\")\n"
      ],
      "metadata": {
        "id": "VPktw4V0rfpS",
        "colab": {
          "base_uri": "https://localhost:8080/",
          "height": 401
        },
        "outputId": "114b3fa9-39af-4241-a315-aed4822dd11e"
      },
      "execution_count": 25,
      "outputs": [
        {
          "output_type": "stream",
          "name": "stdout",
          "text": [
            "Starting Training! Starting Training!\n",
            "\n",
            "Initializing training...\n",
            "Training...\n"
          ]
        },
        {
          "output_type": "stream",
          "name": "stderr",
          "text": [
            "/usr/local/lib/python3.11/dist-packages/wandb/sdk/wandb_run.py:2296: UserWarning: Run (uos75wyl) is finished. The call to `_console_raw_callback` will be ignored. Please make sure that you are using an active run.\n",
            "  lambda data: self._console_raw_callback(\"stdout\", data),\n"
          ]
        },
        {
          "output_type": "display_data",
          "data": {
            "text/plain": [
              "<IPython.core.display.HTML object>"
            ],
            "text/html": []
          },
          "metadata": {}
        },
        {
          "output_type": "display_data",
          "data": {
            "text/plain": [
              "<IPython.core.display.HTML object>"
            ],
            "text/html": [
              " View run <strong style=\"color:#cdcd00\">divine-sweep-1</strong> at: <a href='https://wandb.ai/ga2664-new-york-university/chatbot/runs/uos75wyl' target=\"_blank\">https://wandb.ai/ga2664-new-york-university/chatbot/runs/uos75wyl</a><br> View project at: <a href='https://wandb.ai/ga2664-new-york-university/chatbot' target=\"_blank\">https://wandb.ai/ga2664-new-york-university/chatbot</a><br>Synced 5 W&B file(s), 0 media file(s), 0 artifact file(s) and 0 other file(s)"
            ]
          },
          "metadata": {}
        },
        {
          "output_type": "display_data",
          "data": {
            "text/plain": [
              "<IPython.core.display.HTML object>"
            ],
            "text/html": [
              "Find logs at: <code>./wandb/run-20250320_201115-uos75wyl/logs</code>"
            ]
          },
          "metadata": {}
        },
        {
          "output_type": "stream",
          "name": "stdout",
          "text": [
            "Iteration: 500; Percent complete: 12.5%; Average loss: 4.1215\n",
            "Iteration: 1000; Percent complete: 25.0%; Average loss: 3.4867\n",
            "Iteration: 1500; Percent complete: 37.5%; Average loss: 3.2097\n",
            "Iteration: 2000; Percent complete: 50.0%; Average loss: 2.9555\n",
            "Iteration: 2500; Percent complete: 62.5%; Average loss: 2.7209\n",
            "Iteration: 3000; Percent complete: 75.0%; Average loss: 2.5039\n",
            "Iteration: 3500; Percent complete: 87.5%; Average loss: 2.3049\n",
            "Iteration: 4000; Percent complete: 100.0%; Average loss: 2.1378\n",
            " Saving best model to data/save/cb_model_bestloss.pth...\n",
            "Model saved successfully!\n"
          ]
        }
      ]
    },
    {
      "cell_type": "code",
      "source": [
        "# Load Best Model for Inference (Q8)\n",
        "if os.path.exists(save_path):\n",
        "    print(f\" Loading best model from {save_path}...\")\n",
        "    checkpoint = torch.load(save_path, map_location=device)\n",
        "\n",
        "    encoder.load_state_dict(checkpoint['encoder_state_dict'])\n",
        "    decoder.load_state_dict(checkpoint['decoder_state_dict'])\n",
        "    encoder_optimizer.load_state_dict(checkpoint['encoder_optimizer_state_dict'])\n",
        "    decoder_optimizer.load_state_dict(checkpoint['decoder_optimizer_state_dict'])\n",
        "    embedding.load_state_dict(checkpoint['embedding_state_dict'])\n",
        "\n",
        "    encoder.eval()\n",
        "    decoder.eval()\n",
        "    print(\" Best model loaded successfully for inference!\")\n",
        "\n",
        "# Initialize search module for inference\n",
        "searcher = GreedySearchDecoder(encoder, decoder)\n",
        "\n",
        "# Ensure CUDA memory tracking is accurate\n",
        "if torch.cuda.is_available():\n",
        "    torch.cuda.empty_cache()  # Clear cache before profiling\n",
        "    torch.cuda.synchronize()  # Ensure proper CUDA timing\n",
        "\n",
        "# Start PyTorch Profiler (Q8)\n",
        "print(\" Running Profiling...\")\n",
        "with profile(activities=[ProfilerActivity.CPU, ProfilerActivity.CUDA],\n",
        "             profile_memory=True,\n",
        "             record_shapes=True) as prof:\n",
        "    with record_function(\"model_inference\"):\n",
        "        evaluateInput(encoder, decoder, searcher, voc)  # Run chatbot evaluation"
      ],
      "metadata": {
        "id": "gC6TXIcKszzG",
        "colab": {
          "base_uri": "https://localhost:8080/"
        },
        "outputId": "d6f34042-eb87-4e1f-99fd-680babd5315f"
      },
      "execution_count": 26,
      "outputs": [
        {
          "name": "stdout",
          "output_type": "stream",
          "text": [
            " Loading best model from data/save/cb_model_bestloss.pth...\n",
            " Best model loaded successfully for inference!\n",
            " Running Profiling...\n",
            "> Hello?\n",
            "Bot: it s me . . !\n",
            "> Who are you?\n",
            "Bot: i m your father . . !\n",
            "> Where am I?\n",
            "Bot: you re worthless . . !\n",
            "> Where are you from?\n",
            "Bot: i m not home . .\n",
            "> Goodbye\n",
            "Bot: you don t have to go . !\n",
            "> q\n"
          ]
        }
      ]
    },
    {
      "cell_type": "code",
      "source": [
        "# Print memory consumption details\n",
        "print(prof.key_averages().table(sort_by=\"cuda_memory_usage\", row_limit=10))"
      ],
      "metadata": {
        "id": "1lAeGVcPs_8Z",
        "colab": {
          "base_uri": "https://localhost:8080/"
        },
        "outputId": "e4459b41-d2d4-422f-d24d-5696c53327cd"
      },
      "execution_count": 27,
      "outputs": [
        {
          "output_type": "stream",
          "name": "stdout",
          "text": [
            "-------------------------------------------------------  ------------  ------------  ------------  ------------  ------------  ------------  ------------  ------------  ------------  ------------  ------------  ------------  ------------  ------------  \n",
            "                                                   Name    Self CPU %      Self CPU   CPU total %     CPU total  CPU time avg     Self CUDA   Self CUDA %    CUDA total  CUDA time avg       CPU Mem  Self CPU Mem      CUDA Mem  Self CUDA Mem    # of Calls  \n",
            "-------------------------------------------------------  ------------  ------------  ------------  ------------  ------------  ------------  ------------  ------------  ------------  ------------  ------------  ------------  ------------  ------------  \n",
            "                                            aten::empty         0.00%       3.475ms         0.01%       3.785ms       7.141us       0.000us         0.00%       0.000us       0.000us         416 b         416 b       1.74 Gb       1.74 Gb           530  \n",
            "                                           aten::linear         0.00%     457.305us         0.01%       6.851ms      68.510us       0.000us         0.00%       5.394ms      53.937us           0 b           0 b       1.61 Mb           0 b           100  \n",
            "                                            aten::addmm         0.01%       3.739ms         0.01%       5.407ms      54.068us       5.286ms        26.05%       5.394ms      53.937us           0 b           0 b       1.61 Mb     -98.39 Mb           100  \n",
            "                                          aten::softmax         0.00%     317.125us         0.00%       2.942ms      29.421us       0.000us         0.00%     899.109us       8.991us           0 b           0 b       1.54 Mb           0 b           100  \n",
            "                                         aten::_softmax         0.00%       1.674ms         0.00%       2.625ms      26.250us     889.285us         4.38%     899.109us       8.991us           0 b           0 b       1.54 Mb       1.54 Mb           100  \n",
            "                                              aten::gru         0.00%       3.028ms         0.03%      20.516ms     373.024us       0.000us         0.00%      13.630ms     247.825us           0 b           0 b     423.50 Kb           0 b            55  \n",
            "                                       aten::_cudnn_rnn         0.01%       8.133ms         0.02%      15.972ms     290.404us      10.979ms        54.10%      13.630ms     247.825us           0 b           0 b     423.50 Kb      -1.64 Gb            55  \n",
            "                                              aten::mul         0.00%       1.452ms         0.00%       2.076ms      37.742us     260.921us         1.29%     263.865us       4.798us           0 b           0 b     422.50 Kb     422.50 Kb            55  \n",
            "                                              aten::cat         0.00%       3.105ms         0.01%       4.704ms      30.350us     679.889us         3.35%     694.257us       4.479us           0 b           0 b     292.00 Kb     292.00 Kb           155  \n",
            "                                        aten::embedding         0.00%     889.800us         0.01%       4.132ms      75.123us       0.000us         0.00%     312.212us       5.677us           0 b           0 b     142.00 Kb           0 b            55  \n",
            "-------------------------------------------------------  ------------  ------------  ------------  ------------  ------------  ------------  ------------  ------------  ------------  ------------  ------------  ------------  ------------  ------------  \n",
            "Self CPU time total: 73.264s\n",
            "Self CUDA time total: 20.293ms\n",
            "\n"
          ]
        }
      ]
    },
    {
      "cell_type": "code",
      "source": [
        "#Time Consumption\n",
        "print(prof.key_averages().table(sort_by=\"cuda_time_total\", row_limit=10))"
      ],
      "metadata": {
        "id": "lmjJZHTltDLs",
        "colab": {
          "base_uri": "https://localhost:8080/"
        },
        "outputId": "724fe22a-8f68-42f8-f127-12c173e79566"
      },
      "execution_count": 28,
      "outputs": [
        {
          "output_type": "stream",
          "name": "stdout",
          "text": [
            "-------------------------------------------------------  ------------  ------------  ------------  ------------  ------------  ------------  ------------  ------------  ------------  ------------  ------------  ------------  ------------  ------------  \n",
            "                                                   Name    Self CPU %      Self CPU   CPU total %     CPU total  CPU time avg     Self CUDA   Self CUDA %    CUDA total  CUDA time avg       CPU Mem  Self CPU Mem      CUDA Mem  Self CUDA Mem    # of Calls  \n",
            "-------------------------------------------------------  ------------  ------------  ------------  ------------  ------------  ------------  ------------  ------------  ------------  ------------  ------------  ------------  ------------  ------------  \n",
            "                                        model_inference         0.00%       0.000us         0.00%       0.000us       0.000us      269.994s   1330448.10%      269.994s       29.999s           0 b           0 b           0 b           0 b             9  \n",
            "                                        model_inference        99.88%       73.175s       100.00%       73.264s       73.264s       0.000us         0.00%      23.138ms      23.138ms           0 b        -416 b           0 b      -4.83 Mb             1  \n",
            "                                              aten::gru         0.00%       3.028ms         0.03%      20.516ms     373.024us       0.000us         0.00%      13.630ms     247.825us           0 b           0 b     423.50 Kb           0 b            55  \n",
            "                                       aten::_cudnn_rnn         0.01%       8.133ms         0.02%      15.972ms     290.404us      10.979ms        54.10%      13.630ms     247.825us           0 b           0 b     423.50 Kb      -1.64 Gb            55  \n",
            "void gemv2T_kernel_val<int, int, float, float, float...         0.00%       0.000us         0.00%       0.000us       0.000us       8.163ms        40.23%       8.163ms      28.743us           0 b           0 b           0 b           0 b           284  \n",
            "                                           aten::linear         0.00%     457.305us         0.01%       6.851ms      68.510us       0.000us         0.00%       5.394ms      53.937us           0 b           0 b       1.61 Mb           0 b           100  \n",
            "                                            aten::addmm         0.01%       3.739ms         0.01%       5.407ms      54.068us       5.286ms        26.05%       5.394ms      53.937us           0 b           0 b       1.61 Mb     -98.39 Mb           100  \n",
            "void gemv2T_kernel_val<int, int, float, float, float...         0.00%       0.000us         0.00%       0.000us       0.000us       4.311ms        21.24%       4.311ms      86.213us           0 b           0 b           0 b           0 b            50  \n",
            "                                           Unrecognized         0.04%      30.185ms         0.04%      30.185ms       1.776ms       2.844ms        14.02%       2.844ms     167.311us           0 b           0 b           0 b           0 b            17  \n",
            "cudaOccupancyMaxActiveBlocksPerMultiprocessorWithFla...         0.00%     903.978us         0.00%       1.065ms     106.466us       0.000us         0.00%       1.438ms     143.798us           0 b           0 b           0 b           0 b            10  \n",
            "-------------------------------------------------------  ------------  ------------  ------------  ------------  ------------  ------------  ------------  ------------  ------------  ------------  ------------  ------------  ------------  ------------  \n",
            "Self CPU time total: 73.264s\n",
            "Self CUDA time total: 20.293ms\n",
            "\n"
          ]
        }
      ]
    },
    {
      "cell_type": "code",
      "source": [
        "import os\n",
        "os.makedirs(\"data/save\", exist_ok=True)"
      ],
      "metadata": {
        "id": "3Wgr5pUdsN85"
      },
      "execution_count": 29,
      "outputs": []
    },
    {
      "cell_type": "code",
      "source": [
        "# Export profiling trace for Chrome Trace Viewer\n",
        "prof.export_chrome_trace(\"data/save/trace.json\")\n",
        "print(\"Profiling trace saved as trace.json. Open in Chrome using chrome://tracing/\")"
      ],
      "metadata": {
        "id": "UXaRI3VOtBRE",
        "colab": {
          "base_uri": "https://localhost:8080/"
        },
        "outputId": "10808a4c-9d0e-4590-9245-6eccf40cc549"
      },
      "execution_count": 30,
      "outputs": [
        {
          "output_type": "stream",
          "name": "stdout",
          "text": [
            "Profiling trace saved as trace.json. Open in Chrome using chrome://tracing/\n"
          ]
        }
      ]
    },
    {
      "cell_type": "markdown",
      "source": [
        "P2"
      ],
      "metadata": {
        "id": "HKAiQD8D0LTr"
      }
    },
    {
      "cell_type": "markdown",
      "source": [
        "Q3\n"
      ],
      "metadata": {
        "id": "xj4A9oy80IIB"
      }
    },
    {
      "cell_type": "code",
      "source": [
        "class EncoderRNN(nn.Module):\n",
        "    def __init__(self, hidden_size, embedding, n_layers=1, dropout=0):\n",
        "        super(EncoderRNN, self).__init__()\n",
        "        self.n_layers = n_layers\n",
        "        self.hidden_size = hidden_size\n",
        "        self.embedding = embedding\n",
        "\n",
        "        # Initialize GRU (Bidirectional)\n",
        "        self.gru = nn.GRU(hidden_size, hidden_size, n_layers,\n",
        "                          dropout=(0 if n_layers == 1 else dropout), bidirectional=True)\n",
        "\n",
        "    def forward(self, input_seq, input_lengths, hidden=None):\n",
        "        # Convert word indexes to embeddings\n",
        "        embedded = self.embedding(input_seq)\n",
        "\n",
        "        # # Ensure input_lengths TorchScript compatibility\n",
        "        # input_lengths = input_lengths.to(input_seq.device)\n",
        "        # Move input_lengths to CPU and ensure it's int64 for pack_padded_sequence\n",
        "        input_lengths = input_lengths.to(dtype=torch.int64, device='cpu')\n",
        "\n",
        "        # Pack padded batch of sequences for RNN module\n",
        "        packed = torch.nn.utils.rnn.pack_padded_sequence(embedded, input_lengths)\n",
        "\n",
        "        # Forward pass through GRU\n",
        "        outputs, hidden = self.gru(packed, hidden)\n",
        "\n",
        "        # Unpack padding\n",
        "        outputs, _ = torch.nn.utils.rnn.pad_packed_sequence(outputs)\n",
        "\n",
        "        # Sum bidirectional GRU outputs\n",
        "        outputs = outputs[:, :, :self.hidden_size] + outputs[:, : ,self.hidden_size:]\n",
        "\n",
        "        # Return output and final hidden state\n",
        "        return outputs, hidden"
      ],
      "metadata": {
        "id": "eLS1OFpsOWuc"
      },
      "execution_count": 31,
      "outputs": []
    },
    {
      "cell_type": "code",
      "source": [
        "# Luong attention layer\n",
        "class Attn(nn.Module):\n",
        "    def __init__(self, method, hidden_size):\n",
        "        super(Attn, self).__init__()\n",
        "\n",
        "        # TorchScript does not handle string conditionals well, so we store the method as an attribute\n",
        "        self.method = method\n",
        "\n",
        "        if self.method not in ['dot', 'general', 'concat']:\n",
        "            raise ValueError(self.method, \"is not an appropriate attention method.\")\n",
        "\n",
        "        self.hidden_size = hidden_size\n",
        "\n",
        "        if method == 'general':\n",
        "            self.attn = nn.Linear(hidden_size, hidden_size)\n",
        "        elif method == 'concat':\n",
        "            self.attn = nn.Linear(hidden_size * 2, hidden_size)\n",
        "            self.v = nn.Parameter(torch.empty(hidden_size))  # Correct initialization\n",
        "\n",
        "            # Initialize weights properly\n",
        "            nn.init.xavier_uniform_(self.v.view(1, -1))  # Ensure it's learnable\n",
        "\n",
        "    def dot_score(self, hidden, encoder_output):\n",
        "        return torch.sum(hidden * encoder_output, dim=2)\n",
        "\n",
        "    def general_score(self, hidden, encoder_output):\n",
        "        energy = self.attn(encoder_output)\n",
        "        return torch.sum(hidden * energy, dim=2)\n",
        "\n",
        "    def concat_score(self, hidden, encoder_output):\n",
        "        energy = self.attn(torch.cat((hidden.expand(encoder_output.size(0), -1, -1), encoder_output), 2)).tanh()\n",
        "        return torch.sum(self.v * energy, dim=2)\n",
        "\n",
        "    def forward(self, hidden, encoder_outputs):\n",
        "        # Calculate the attention weights (energies) based on the given method\n",
        "        if self.method == 'general':\n",
        "            attn_energies = self.general_score(hidden, encoder_outputs)\n",
        "        elif self.method == 'concat':\n",
        "            attn_energies = self.concat_score(hidden, encoder_outputs)\n",
        "        elif self.method == 'dot':\n",
        "            attn_energies = self.dot_score(hidden, encoder_outputs)\n",
        "\n",
        "         # Transpose max_length and batch_size dimensions\n",
        "        attn_energies = attn_energies.t().contiguous() # Ensure tensor memory is contiguous\n",
        "\n",
        "        # Return the softmax normalized probability scores (with added dimension)\n",
        "        return F.softmax(attn_energies, dim=1).unsqueeze(1)"
      ],
      "metadata": {
        "id": "7bFn_DokT65f"
      },
      "execution_count": 32,
      "outputs": []
    },
    {
      "cell_type": "code",
      "source": [
        "class LuongAttnDecoderRNN(nn.Module):\n",
        "    def __init__(self, attn_model, embedding, hidden_size, output_size, n_layers=1, dropout=0.1):\n",
        "        super(LuongAttnDecoderRNN, self).__init__()\n",
        "\n",
        "        # Store hyperparameters\n",
        "        self.attn_model = attn_model\n",
        "        self.hidden_size = hidden_size\n",
        "        self.output_size = output_size\n",
        "        self.n_layers = n_layers\n",
        "        self.dropout = dropout\n",
        "\n",
        "        # Define layers\n",
        "        self.embedding = embedding\n",
        "        self.embedding_dropout = nn.Dropout(dropout)\n",
        "        self.gru = nn.GRU(hidden_size, hidden_size, n_layers, dropout=(0 if n_layers == 1 else dropout))\n",
        "        self.concat = nn.Linear(hidden_size * 2, hidden_size)\n",
        "        self.out = nn.Linear(hidden_size, output_size)\n",
        "\n",
        "        self.attn = Attn(attn_model, hidden_size)\n",
        "\n",
        "    def forward(self, input_step, last_hidden, encoder_outputs):\n",
        "        # Embedding lookup\n",
        "        embedded = self.embedding(input_step)\n",
        "        embedded = self.embedding_dropout(embedded)\n",
        "\n",
        "        # Forward through GRU\n",
        "        rnn_output, hidden = self.gru(embedded, last_hidden)\n",
        "\n",
        "        # Calculate attention weights\n",
        "        attn_weights = self.attn(rnn_output, encoder_outputs)\n",
        "\n",
        "        # Ensure encoder outputs are contiguous before batch matrix multiplication\n",
        "        encoder_outputs = encoder_outputs.transpose(0, 1).contiguous()\n",
        "\n",
        "        # Apply attention weights to encoder outputs to get context vector\n",
        "        context = attn_weights.bmm(encoder_outputs)\n",
        "\n",
        "        # Prepare for Luong equation 5\n",
        "        rnn_output = rnn_output.squeeze(0)\n",
        "        context = context.squeeze(1)\n",
        "\n",
        "        # Concatenate weighted context vector and RNN output\n",
        "        concat_input = torch.cat((rnn_output, context), 1)\n",
        "        concat_output = torch.tanh(self.concat(concat_input))\n",
        "\n",
        "        # Predict next word (Luong eq. 6)\n",
        "        output = self.out(concat_output)\n",
        "        output = F.softmax(output, dim=-1)  # Correct dim usage\n",
        "\n",
        "        # Return output and final hidden state\n",
        "        return output, hidden"
      ],
      "metadata": {
        "id": "Fvwr60XmWOKV"
      },
      "execution_count": 33,
      "outputs": []
    },
    {
      "cell_type": "code",
      "source": [
        "class GreedySearchDecoder(nn.Module):\n",
        "    def __init__(self, encoder, decoder, decoder_n_layers):\n",
        "        super(GreedySearchDecoder, self).__init__()\n",
        "        self.encoder = encoder\n",
        "        self.decoder = decoder\n",
        "        self._device = device\n",
        "        self._SOS_token = SOS_token\n",
        "        self._decoder_n_layers = decoder_n_layers\n",
        "\n",
        "    __constants__ = ['_device', '_SOS_token', '_decoder_n_layers']\n",
        "\n",
        "    def forward(self, input_seq : torch.Tensor, input_length : torch.Tensor, max_length : int):\n",
        "\n",
        "        # Forward input through encoder model\n",
        "        encoder_outputs, encoder_hidden = self.encoder(input_seq, input_length)\n",
        "\n",
        "        # Prepare encoder's final hidden layer to be first hidden input to the decoder\n",
        "        decoder_hidden = encoder_hidden[:self._decoder_n_layers].contiguous()\n",
        "\n",
        "        # Initialize decoder input with SOS_token\n",
        "        decoder_input = torch.ones(1, 1, device=self._device, dtype=torch.long) * self._SOS_token\n",
        "\n",
        "        # Pre-allocate tensors for tokens and scores\n",
        "        all_tokens = torch.zeros([0], device=self._device, dtype=torch.long)\n",
        "        all_scores = torch.zeros([0], device=self._device)\n",
        "\n",
        "        # Iteratively decode one word token at a time\n",
        "        for _ in range(max_length):\n",
        "\n",
        "            # Forward pass through decoder\n",
        "            decoder_output, decoder_hidden = self.decoder(decoder_input, decoder_hidden, encoder_outputs)\n",
        "\n",
        "            # Obtain most likely word token and its softmax score\n",
        "            decoder_scores, decoder_input = torch.max(decoder_output, dim=1)\n",
        "\n",
        "            # Record token and score\n",
        "            all_tokens = torch.cat((all_tokens, decoder_input), dim=0)\n",
        "            all_scores = torch.cat((all_scores, decoder_scores), dim=0)\n",
        "\n",
        "            # Prepare current token to be next decoder input (add a dimension)\n",
        "            decoder_input = torch.unsqueeze(decoder_input, 0)\n",
        "\n",
        "        # Return collections of word tokens and scores\n",
        "        return all_tokens, all_scores"
      ],
      "metadata": {
        "id": "GLxRiJdwYxo8"
      },
      "execution_count": 34,
      "outputs": []
    },
    {
      "cell_type": "code",
      "source": [
        "def evaluate(searcher, voc, sentence: str, max_length: int):\n",
        "    \"\"\"\n",
        "    Evaluates a single input sentence and returns the chatbot's response.\n",
        "    \"\"\"\n",
        "    # Normalize sentence (should be done before calling this function)\n",
        "    input_sentence = normalizeString(sentence)  # Ensure normalization is done correctly\n",
        "\n",
        "    # Convert words to indexes\n",
        "    indexes_batch = [indexesFromSentence(voc, input_sentence)]\n",
        "\n",
        "    # Create lengths tensor\n",
        "    lengths = torch.tensor([len(indexes) for indexes in indexes_batch])\n",
        "\n",
        "    # Transpose dimensions to match model expectations\n",
        "    input_batch = torch.LongTensor(indexes_batch).transpose(0, 1)\n",
        "\n",
        "    # Move tensors to appropriate device\n",
        "    input_batch = input_batch.to(searcher._device)\n",
        "    lengths = lengths.to(searcher._device)\n",
        "\n",
        "    # Decode sentence using searcher (TorchScript model)\n",
        "    tokens, scores = searcher(input_batch, lengths, max_length)\n",
        "\n",
        "    # Convert indexes back to words\n",
        "    decoded_words = []\n",
        "    for token in tokens:\n",
        "        word = voc.index2word.get(token.item(), \"<UNK>\")  # Avoid KeyError\n",
        "        if word not in [\"EOS\", \"PAD\"]:\n",
        "            decoded_words.append(word)\n",
        "\n",
        "    return decoded_words\n",
        "\n",
        "\n",
        "def evaluateInput(searcher, voc, max_length: int = 10):\n",
        "    \"\"\"\n",
        "    Continuously takes user input and evaluates responses from the chatbot.\n",
        "    Type 'q' or 'quit' to exit.\n",
        "    \"\"\"\n",
        "    while True:\n",
        "        try:\n",
        "            # Get user input\n",
        "            input_sentence = input(\"> \")\n",
        "            if input_sentence.lower() in ['q', 'quit']:\n",
        "                break  # Exit the loop\n",
        "\n",
        "            # Normalize and evaluate\n",
        "            output_words = evaluate(searcher, voc, input_sentence, max_length)\n",
        "\n",
        "            # Format and print response\n",
        "            print(\"Bot:\", \" \".join(output_words))\n",
        "\n",
        "        except Exception as e:\n",
        "            print(\"Error:\", str(e))\n",
        "\n",
        "\n",
        "def evaluateExample(sentence: str, searcher, voc, max_length: int = 10):\n",
        "    \"\"\"\n",
        "    Evaluates a single input sentence and prints the chatbot's response.\n",
        "    \"\"\"\n",
        "    print(\"> \" + sentence)\n",
        "    output_words = evaluate(searcher, voc, sentence, max_length)\n",
        "    print(\"Bot:\", \" \".join(output_words))\n"
      ],
      "metadata": {
        "id": "tKoaYGUw3BBl"
      },
      "execution_count": 35,
      "outputs": []
    },
    {
      "cell_type": "code",
      "source": [
        "import os\n",
        "\n",
        "checkpoint_path = \"data/save/cb_model_bestloss.pth\"\n",
        "\n",
        "# Check if the directory and file exist\n",
        "print(\"Checking if model exists:\", os.path.exists(checkpoint_path))\n",
        "\n",
        "if os.path.exists(checkpoint_path):\n",
        "    print(\"Model exists. Proceeding to load...\")\n",
        "else:\n",
        "    print(\"Model not found. Here are the available files:\")\n",
        "    print(os.listdir(\"data/save\"))  # List available files in the directory\n"
      ],
      "metadata": {
        "id": "cpMYM2-h8gDa",
        "colab": {
          "base_uri": "https://localhost:8080/"
        },
        "outputId": "e3f5dbe8-836c-427d-daa9-a99f6e7eff52"
      },
      "execution_count": 36,
      "outputs": [
        {
          "output_type": "stream",
          "name": "stdout",
          "text": [
            "Checking if model exists: True\n",
            "Model exists. Proceeding to load...\n"
          ]
        }
      ]
    },
    {
      "cell_type": "code",
      "source": [
        "# Model checkpoint path\n",
        "loadFilename = \"data/save/cb_model_bestloss.pth\"  # Ensure this is the correct path\n",
        "\n",
        "# Test if the file can be loaded\n",
        "try:\n",
        "    checkpoint = torch.load(loadFilename, map_location=\"cpu\")  # Load on CPU first\n",
        "    print(\"Checkpoint loaded successfully!\")\n",
        "    print(\"Keys in checkpoint:\", checkpoint.keys())  # Check what keys exist\n",
        "except Exception as e:\n",
        "    print(\" Error loading checkpoint:\", str(e))\n",
        "\n",
        "# Model parameters\n",
        "model_name = 'cb_model_bestloss'\n",
        "attn_model = 'dot'\n",
        "hidden_size = 500\n",
        "encoder_n_layers = 2\n",
        "decoder_n_layers = 2\n",
        "dropout = 0.1\n",
        "batch_size = 64\n",
        "learning_rate = 0.00025\n",
        "clip = 100\n",
        "teacher_forcing_ratio = 0\n",
        "decoder_learning_ratio = 5\n",
        "device = torch.device(\"cuda\" if torch.cuda.is_available() else \"cpu\")\n",
        "\n",
        "# Load model if a checkpoint is provided\n",
        "if loadFilename:\n",
        "    print(f\"Loading checkpoint from {loadFilename}...\")\n",
        "    checkpoint = torch.load(loadFilename, map_location=device)\n",
        "\n",
        "    # Ensure 'voc' exists\n",
        "    if 'voc_dict' in checkpoint:\n",
        "        voc = Voc(\"movie-corpus\")  # Initialize voc if not already defined\n",
        "        voc.__dict__ = checkpoint['voc_dict']\n",
        "\n",
        "    # Load model state dictionaries\n",
        "    encoder_sd = checkpoint['encoder_state_dict']\n",
        "    decoder_sd = checkpoint['decoder_state_dict']\n",
        "    encoder_optimizer_sd = checkpoint['encoder_optimizer_state_dict']\n",
        "    decoder_optimizer_sd = checkpoint['decoder_optimizer_state_dict']\n",
        "    embedding_sd = checkpoint['embedding_state_dict']\n",
        "\n",
        "print('Building encoder and decoder ...')\n",
        "\n",
        "# Initialize word embeddings\n",
        "embedding = nn.Embedding(voc.num_words, hidden_size)\n",
        "if loadFilename:\n",
        "    embedding.load_state_dict(embedding_sd)\n",
        "\n",
        "# Initialize encoder & decoder models\n",
        "encoder = EncoderRNN(hidden_size, embedding, encoder_n_layers, dropout)\n",
        "decoder = LuongAttnDecoderRNN(attn_model, embedding, hidden_size, voc.num_words, decoder_n_layers, dropout)\n",
        "\n",
        "# Load trained model parameters\n",
        "if loadFilename:\n",
        "    encoder.load_state_dict(encoder_sd)\n",
        "    decoder.load_state_dict(decoder_sd)\n",
        "\n",
        "# Move models to the correct device (GPU or CPU)\n",
        "encoder = encoder.to(device)\n",
        "decoder = decoder.to(device)\n",
        "\n",
        "# Set dropout layers to eval mode (important for inference)\n",
        "encoder.eval()\n",
        "decoder.eval()\n",
        "\n",
        "print('Models built and ready to go!')\n"
      ],
      "metadata": {
        "id": "e188PzaW4A93",
        "colab": {
          "base_uri": "https://localhost:8080/"
        },
        "outputId": "43ec1924-1517-41da-c341-c1a8faff1426"
      },
      "execution_count": 37,
      "outputs": [
        {
          "output_type": "stream",
          "name": "stdout",
          "text": [
            "Checkpoint loaded successfully!\n",
            "Keys in checkpoint: dict_keys(['encoder_state_dict', 'decoder_state_dict', 'encoder_optimizer_state_dict', 'decoder_optimizer_state_dict', 'embedding_state_dict', 'hyperparams'])\n",
            "Loading checkpoint from data/save/cb_model_bestloss.pth...\n",
            "Building encoder and decoder ...\n",
            "Models built and ready to go!\n"
          ]
        }
      ]
    },
    {
      "cell_type": "code",
      "source": [
        "# Ensure the directory exists before saving\n",
        "import os\n",
        "save_dir = \"data/save\"\n",
        "os.makedirs(save_dir, exist_ok=True)  # Create directory if it doesn't exist"
      ],
      "metadata": {
        "id": "Kkm8jeSofmbe"
      },
      "execution_count": 38,
      "outputs": []
    },
    {
      "cell_type": "code",
      "source": [
        "# Create artificial inputs\n",
        "test_seq = torch.LongTensor(MAX_LENGTH, 1).random_(0, voc.num_words).to(device)\n",
        "test_seq_length = torch.LongTensor([test_seq.size()[0]]).to(device)\n",
        "\n",
        "# Trace the model\n",
        "traced_encoder = torch.jit.trace(encoder, (test_seq, test_seq_length.to('cpu')))\n",
        "\n",
        "### Convert decoder model\n",
        "# Generate artificial inputs\n",
        "test_encoder_outputs, test_encoder_hidden = traced_encoder(test_seq, test_seq_length)\n",
        "test_decoder_hidden = test_encoder_hidden[:decoder.n_layers]\n",
        "test_decoder_input = torch.LongTensor(1, 1).random_(0, voc.num_words).to(device)  # Ensure it's on the correct device\n",
        "\n",
        "# Trace the decoder model\n",
        "traced_decoder = torch.jit.trace(decoder, (test_decoder_input, test_decoder_hidden, test_encoder_outputs.to(device)))\n",
        "\n",
        "# Initialize scripted searcher module\n",
        "scripted_searcher = torch.jit.script(GreedySearchDecoder(traced_encoder, traced_decoder, decoder.n_layers))\n",
        "\n",
        "# Save the TorchScript models\n",
        "torch.jit.save(traced_encoder, os.path.join(save_dir, \"traced_encoder.pt\"))\n",
        "torch.jit.save(traced_decoder, os.path.join(save_dir, \"traced_decoder.pt\"))\n",
        "torch.jit.save(scripted_searcher, os.path.join(save_dir, \"scripted_searcher.pt\"))\n",
        "\n",
        "print(\"TorchScript models successfully traced and saved in 'data/save/'!\")"
      ],
      "metadata": {
        "colab": {
          "base_uri": "https://localhost:8080/"
        },
        "id": "0p4MIrDabT6D",
        "outputId": "0fcda2e1-19d2-4f26-fa7b-583a72c42213"
      },
      "execution_count": 40,
      "outputs": [
        {
          "output_type": "stream",
          "name": "stdout",
          "text": [
            "TorchScript models successfully traced and saved in 'data/save/'!\n"
          ]
        }
      ]
    },
    {
      "cell_type": "markdown",
      "source": [
        "Q4"
      ],
      "metadata": {
        "id": "xFeh4BiN_lL6"
      }
    },
    {
      "cell_type": "code",
      "source": [
        "# Load TorchScript models\n",
        "traced_encoder = torch.jit.load(\"data/save/traced_encoder.pt\")\n",
        "traced_decoder = torch.jit.load(\"data/save/traced_decoder.pt\")\n",
        "scripted_searcher = torch.jit.load(\"data/save/scripted_searcher.pt\")\n",
        "\n",
        "# Print the computational graph for each model\n",
        "print(\"Encoder Model Graph:\")\n",
        "print(traced_encoder.graph)\n",
        "\n",
        "print(\"\\n Decoder Model Graph:\")\n",
        "print(traced_decoder.graph)\n",
        "\n",
        "print(\"\\n Searcher Model Graph:\")\n",
        "print(scripted_searcher.graph)\n"
      ],
      "metadata": {
        "id": "5F-kOtIF_OI3",
        "colab": {
          "base_uri": "https://localhost:8080/"
        },
        "outputId": "eefb4749-c8ce-4aef-e048-85d3b54bbc73"
      },
      "execution_count": 41,
      "outputs": [
        {
          "output_type": "stream",
          "name": "stdout",
          "text": [
            "Encoder Model Graph:\n",
            "graph(%self.1 : __torch__.___torch_mangle_15.EncoderRNN,\n",
            "      %input_seq.1 : Tensor,\n",
            "      %input_lengths.1 : Tensor):\n",
            "  %16 : NoneType = prim::Constant()\n",
            "  %14 : bool = prim::Constant[value=0]()\n",
            "  %86 : Device = prim::Constant[value=\"cpu\"]()\n",
            "  %13 : int = prim::Constant[value=4]() # <ipython-input-31-743f5fd1f5d8>:19:0\n",
            "  %36 : int = prim::Constant[value=0]() # /usr/local/lib/python3.11/dist-packages/torch/nn/utils/rnn.py:398:0\n",
            "  %42 : float = prim::Constant[value=0.]() # /usr/local/lib/python3.11/dist-packages/torch/nn/utils/rnn.py:407:0\n",
            "  %50 : int = prim::Constant[value=9223372036854775807]() # <ipython-input-31-743f5fd1f5d8>:31:0\n",
            "  %54 : int = prim::Constant[value=1]() # <ipython-input-31-743f5fd1f5d8>:31:0\n",
            "  %58 : int = prim::Constant[value=2]() # <ipython-input-31-743f5fd1f5d8>:31:0\n",
            "  %59 : int = prim::Constant[value=500]() # <ipython-input-31-743f5fd1f5d8>:31:0\n",
            "  %gru.1 : __torch__.torch.nn.modules.rnn.___torch_mangle_14.GRU = prim::GetAttr[name=\"gru\"](%self.1)\n",
            "  %embedding.1 : __torch__.torch.nn.modules.sparse.___torch_mangle_13.Embedding = prim::GetAttr[name=\"embedding\"](%self.1)\n",
            "  %9 : Tensor = prim::CallMethod[name=\"forward\"](%embedding.1, %input_seq.1) # :0:0\n",
            "  %lengths.1 : Tensor = aten::to(%input_lengths.1, %86, %13, %14, %14, %16) # <ipython-input-31-743f5fd1f5d8>:19:0\n",
            "  %lengths0.1 : Tensor = aten::to(%lengths.1, %13, %14, %14, %16) # /usr/local/lib/python3.11/dist-packages/torch/nn/utils/rnn.py:331:0\n",
            "  %input.1 : Tensor, %batch_sizes.1 : Tensor = aten::_pack_padded_sequence(%9, %lengths0.1, %14) # /usr/local/lib/python3.11/dist-packages/torch/nn/utils/rnn.py:341:0\n",
            "  %32 : (Tensor, Tensor) = prim::CallMethod[name=\"forward\"](%gru.1, %batch_sizes.1, %input.1) # :0:0\n",
            "  %33 : Tensor, %34 : Tensor = prim::TupleUnpack(%32)\n",
            "  %37 : int = aten::size(%batch_sizes.1, %36) # /usr/local/lib/python3.11/dist-packages/torch/nn/utils/rnn.py:398:0\n",
            "  %max_seq_length.1 : Tensor = prim::NumToTensor(%37) # :0:0\n",
            "  %45 : int = aten::Int(%max_seq_length.1) # :0:0\n",
            "  %outputs.1 : Tensor, %47 : Tensor = aten::_pad_packed_sequence(%33, %batch_sizes.1, %14, %42, %45) # /usr/local/lib/python3.11/dist-packages/torch/nn/utils/rnn.py:407:0\n",
            "  %52 : Tensor = aten::slice(%outputs.1, %36, %36, %50, %54) # <ipython-input-31-743f5fd1f5d8>:31:0\n",
            "  %56 : Tensor = aten::slice(%52, %54, %36, %50, %54) # <ipython-input-31-743f5fd1f5d8>:31:0\n",
            "  %61 : Tensor = aten::slice(%56, %58, %36, %59, %54) # <ipython-input-31-743f5fd1f5d8>:31:0\n",
            "  %64 : Tensor = aten::slice(%outputs.1, %36, %36, %50, %54) # <ipython-input-31-743f5fd1f5d8>:31:0\n",
            "  %67 : Tensor = aten::slice(%64, %54, %36, %50, %54) # <ipython-input-31-743f5fd1f5d8>:31:0\n",
            "  %70 : Tensor = aten::slice(%67, %58, %59, %50, %54) # <ipython-input-31-743f5fd1f5d8>:31:0\n",
            "  %74 : Tensor = aten::add(%61, %70, %54) # <ipython-input-31-743f5fd1f5d8>:31:0\n",
            "  %76 : (Tensor, Tensor) = prim::TupleConstruct(%74, %34)\n",
            "  return (%76)\n",
            "\n",
            "\n",
            " Decoder Model Graph:\n",
            "graph(%self.1 : __torch__.___torch_mangle_25.LuongAttnDecoderRNN,\n",
            "      %input_step.1 : Tensor,\n",
            "      %last_hidden.1 : Tensor,\n",
            "      %encoder_outputs.1 : Tensor):\n",
            "  %57 : NoneType = prim::Constant()\n",
            "  %32 : int = prim::Constant[value=0]() # <ipython-input-33-d05fa8a2b2f7>:33:0\n",
            "  %33 : int = prim::Constant[value=1]() # <ipython-input-33-d05fa8a2b2f7>:33:0\n",
            "  %56 : int = prim::Constant[value=-1]() # /usr/local/lib/python3.11/dist-packages/torch/nn/functional.py:2140:0\n",
            "  %out.1 : __torch__.torch.nn.modules.linear.___torch_mangle_23.Linear = prim::GetAttr[name=\"out\"](%self.1)\n",
            "  %concat.1 : __torch__.torch.nn.modules.linear.___torch_mangle_22.Linear = prim::GetAttr[name=\"concat\"](%self.1)\n",
            "  %attn.1 : __torch__.___torch_mangle_24.Attn = prim::GetAttr[name=\"attn\"](%self.1)\n",
            "  %gru.1 : __torch__.torch.nn.modules.rnn.___torch_mangle_21.GRU = prim::GetAttr[name=\"gru\"](%self.1)\n",
            "  %embedding_dropout.1 : __torch__.torch.nn.modules.dropout.___torch_mangle_20.Dropout = prim::GetAttr[name=\"embedding_dropout\"](%self.1)\n",
            "  %embedding.1 : __torch__.torch.nn.modules.sparse.___torch_mangle_19.Embedding = prim::GetAttr[name=\"embedding\"](%self.1)\n",
            "  %19 : Tensor = prim::CallMethod[name=\"forward\"](%embedding.1, %input_step.1) # :0:0\n",
            "  %20 : Tensor = prim::CallMethod[name=\"forward\"](%embedding_dropout.1, %19) # :0:0\n",
            "  %24 : (Tensor, Tensor) = prim::CallMethod[name=\"forward\"](%gru.1, %20, %last_hidden.1) # :0:0\n",
            "  %25 : Tensor, %26 : Tensor = prim::TupleUnpack(%24)\n",
            "  %30 : Tensor = prim::CallMethod[name=\"forward\"](%attn.1, %25, %encoder_outputs.1) # :0:0\n",
            "  %34 : Tensor = aten::transpose(%encoder_outputs.1, %32, %33) # <ipython-input-33-d05fa8a2b2f7>:33:0\n",
            "  %encoder_outputs0.1 : Tensor = aten::contiguous(%34, %32) # <ipython-input-33-d05fa8a2b2f7>:33:0\n",
            "  %context.1 : Tensor = aten::bmm(%30, %encoder_outputs0.1) # <ipython-input-33-d05fa8a2b2f7>:36:0\n",
            "  %rnn_output.1 : Tensor = aten::squeeze(%25, %32) # <ipython-input-33-d05fa8a2b2f7>:39:0\n",
            "  %context0.1 : Tensor = aten::squeeze(%context.1, %33) # <ipython-input-33-d05fa8a2b2f7>:40:0\n",
            "  %47 : Tensor[] = prim::ListConstruct(%rnn_output.1, %context0.1)\n",
            "  %input.1 : Tensor = aten::cat(%47, %33) # <ipython-input-33-d05fa8a2b2f7>:43:0\n",
            "  %51 : Tensor = prim::CallMethod[name=\"forward\"](%concat.1, %input.1) # :0:0\n",
            "  %input0.1 : Tensor = aten::tanh(%51) # <ipython-input-33-d05fa8a2b2f7>:44:0\n",
            "  %55 : Tensor = prim::CallMethod[name=\"forward\"](%out.1, %input0.1) # :0:0\n",
            "  %58 : Tensor = aten::softmax(%55, %56, %57) # /usr/local/lib/python3.11/dist-packages/torch/nn/functional.py:2140:0\n",
            "  %61 : (Tensor, Tensor) = prim::TupleConstruct(%58, %26)\n",
            "  return (%61)\n",
            "\n",
            "\n",
            " Searcher Model Graph:\n",
            "graph(%self.1 : __torch__.___torch_mangle_33.GreedySearchDecoder,\n",
            "      %input_seq.1 : Tensor,\n",
            "      %input_length.1 : Tensor,\n",
            "      %max_length.1 : int):\n",
            "  %65 : bool = prim::Constant[value=0]()\n",
            "  %52 : bool = prim::Constant[value=1]() # <ipython-input-34-6b82d5cd9da4>:28:8\n",
            "  %118 : Device = prim::Constant[value=\"cuda\"]()\n",
            "  %15 : NoneType = prim::Constant() # :0:0\n",
            "  %14 : int = prim::Constant[value=0]() # <ipython-input-34-6b82d5cd9da4>:24:34\n",
            "  %16 : int = prim::Constant[value=2]() # <ipython-input-34-6b82d5cd9da4>:18:41\n",
            "  %22 : int = prim::Constant[value=1]() # <ipython-input-34-6b82d5cd9da4>:21:35\n",
            "  %24 : int = prim::Constant[value=4]() # <ipython-input-34-6b82d5cd9da4>:21:68\n",
            "  %encoder.1 : __torch__.___torch_mangle_15.EncoderRNN = prim::GetAttr[name=\"encoder\"](%self.1)\n",
            "  %9 : (Tensor, Tensor) = prim::CallMethod[name=\"forward\"](%encoder.1, %input_seq.1, %input_length.1) # <ipython-input-34-6b82d5cd9da4>:15:42\n",
            "  %encoder_outputs.1 : Tensor, %encoder_hidden.1 : Tensor = prim::TupleUnpack(%9)\n",
            "  %18 : Tensor = aten::slice(%encoder_hidden.1, %14, %15, %16, %22) # <ipython-input-34-6b82d5cd9da4>:18:25\n",
            "  %decoder_hidden.1 : Tensor = aten::contiguous(%18, %14) # <ipython-input-34-6b82d5cd9da4>:18:25\n",
            "  %23 : int[] = prim::ListConstruct(%22, %22)\n",
            "  %29 : Tensor = aten::ones(%23, %24, %15, %118, %15) # <ipython-input-34-6b82d5cd9da4>:21:24\n",
            "  %decoder_input.1 : Tensor = aten::mul(%29, %22) # <ipython-input-34-6b82d5cd9da4>:21:24\n",
            "  %32 : int[] = prim::ListConstruct(%14)\n",
            "  %all_tokens.1 : Tensor = aten::zeros(%32, %24, %15, %118, %15) # <ipython-input-34-6b82d5cd9da4>:24:21\n",
            "  %38 : int[] = prim::ListConstruct(%14)\n",
            "  %all_scores.1 : Tensor = aten::zeros(%38, %15, %15, %118, %15) # <ipython-input-34-6b82d5cd9da4>:25:21\n",
            "  %all_tokens0 : Tensor, %all_scores0 : Tensor, %decoder_hidden0 : Tensor, %decoder_input0 : Tensor = prim::Loop(%max_length.1, %52, %all_tokens.1, %all_scores.1, %decoder_hidden.1, %decoder_input.1) # <ipython-input-34-6b82d5cd9da4>:28:8\n",
            "    block0(%53 : int, %all_tokens0.7 : Tensor, %all_scores0.7 : Tensor, %decoder_hidden0.5 : Tensor, %decoder_input0.5 : Tensor):\n",
            "      %decoder.1 : __torch__.___torch_mangle_25.LuongAttnDecoderRNN = prim::GetAttr[name=\"decoder\"](%self.1)\n",
            "      %60 : (Tensor, Tensor) = prim::CallMethod[name=\"forward\"](%decoder.1, %decoder_input0.5, %decoder_hidden0.5, %encoder_outputs.1) # <ipython-input-34-6b82d5cd9da4>:31:45\n",
            "      %decoder_output.1 : Tensor, %decoder_hidden1.1 : Tensor = prim::TupleUnpack(%60)\n",
            "      %decoder_scores.1 : Tensor, %decoder_input1.1 : Tensor = aten::max(%decoder_output.1, %22, %65) # <ipython-input-34-6b82d5cd9da4>:34:44\n",
            "      %71 : Tensor[] = prim::ListConstruct(%all_tokens0.7, %decoder_input1.1)\n",
            "      %all_tokens1.1 : Tensor = aten::cat(%71, %14) # <ipython-input-34-6b82d5cd9da4>:37:25\n",
            "      %76 : Tensor[] = prim::ListConstruct(%all_scores0.7, %decoder_scores.1)\n",
            "      %all_scores1.1 : Tensor = aten::cat(%76, %14) # <ipython-input-34-6b82d5cd9da4>:38:25\n",
            "      %decoder_input2.1 : Tensor = aten::unsqueeze(%decoder_input1.1, %14) # <ipython-input-34-6b82d5cd9da4>:41:28\n",
            "      -> (%52, %all_tokens1.1, %all_scores1.1, %decoder_hidden1.1, %decoder_input2.1)\n",
            "  %92 : (Tensor, Tensor) = prim::TupleConstruct(%all_tokens0, %all_scores0)\n",
            "  return (%92)\n",
            "\n"
          ]
        }
      ]
    },
    {
      "cell_type": "markdown",
      "source": [
        "Q5"
      ],
      "metadata": {
        "id": "MN8omaXH_mbb"
      }
    },
    {
      "cell_type": "code",
      "source": [
        "device = torch.device(\"cuda\" if torch.cuda.is_available() else \"cpu\")\n",
        "\n",
        "# Load TorchScript models and move them to the correct device\n",
        "scripted_searcher = torch.jit.load(\"data/save/scripted_searcher.pt\", map_location=device).to(device)\n",
        "traced_encoder = torch.jit.load(\"data/save/traced_encoder.pt\", map_location=device).to(device)\n",
        "traced_decoder = torch.jit.load(\"data/save/traced_decoder.pt\", map_location=device).to(device)\n",
        "\n",
        "# Set models to evaluation mode\n",
        "traced_encoder.eval()\n",
        "traced_decoder.eval()\n",
        "scripted_searcher.eval()\n",
        "\n",
        "\n",
        "print(f\"TorchScript models loaded on {device} and ready for evaluation!\")\n"
      ],
      "metadata": {
        "id": "dezwSZ3-BbZd",
        "colab": {
          "base_uri": "https://localhost:8080/"
        },
        "outputId": "647b46b4-bfd8-4c36-e9fb-07a674e4d48b"
      },
      "execution_count": 42,
      "outputs": [
        {
          "output_type": "stream",
          "name": "stdout",
          "text": [
            "TorchScript models loaded on cuda and ready for evaluation!\n"
          ]
        }
      ]
    },
    {
      "cell_type": "code",
      "source": [
        "# Use appropriate device\n",
        "scripted_searcher.to(device)\n",
        "# Set dropout layers to eval mode\n",
        "scripted_searcher.eval()\n",
        "\n",
        "# Evaluate examples\n",
        "sentences = [\"hello\", \"what's up?\", \"who are you?\", \"where am I?\", \"where are you from?\"]\n",
        "for s in sentences:\n",
        "    evaluateExample(s, scripted_searcher, voc)"
      ],
      "metadata": {
        "colab": {
          "base_uri": "https://localhost:8080/"
        },
        "id": "VKXhuyYiiwiW",
        "outputId": "1e24966d-7200-4e14-8f05-f9287c4faf6f"
      },
      "execution_count": 43,
      "outputs": [
        {
          "output_type": "stream",
          "name": "stdout",
          "text": [
            "> hello\n",
            "Bot: hello . ? ? ? ?\n",
            "> what's up?\n",
            "Bot: i want to talk . . !\n",
            "> who are you?\n",
            "Bot: i m your father . . !\n",
            "> where am I?\n",
            "Bot: you re worthless . . !\n",
            "> where are you from?\n",
            "Bot: i m not home . .\n"
          ]
        }
      ]
    },
    {
      "cell_type": "code",
      "source": [
        "# Evaluate your input\n",
        "evaluateInput(scripted_searcher, voc)"
      ],
      "metadata": {
        "id": "xXefpzyAmNx_",
        "colab": {
          "base_uri": "https://localhost:8080/"
        },
        "outputId": "a9712f55-981a-425e-c75a-663f896368af"
      },
      "execution_count": 44,
      "outputs": [
        {
          "name": "stdout",
          "output_type": "stream",
          "text": [
            "> Hello?\n",
            "Bot: it s me . . !\n",
            "> Where am I?\n",
            "Bot: you re worthless . . !\n",
            "> Who are you?\n",
            "Bot: i m your father . . !\n",
            "> Goodbye\n",
            "Bot: you don t have to go . !\n",
            "> q\n"
          ]
        }
      ]
    },
    {
      "cell_type": "markdown",
      "source": [
        "Q6"
      ],
      "metadata": {
        "id": "Dbhcfv-xnaMf"
      }
    },
    {
      "cell_type": "code",
      "source": [
        "import time\n",
        "\n",
        "device = torch.device(\"cuda\" if torch.cuda.is_available() else \"cpu\")\n",
        "\n",
        "# Select appropriate profiler activities\n",
        "activities = [ProfilerActivity.CPU]\n",
        "if torch.cuda.is_available():\n",
        "    activities.append(ProfilerActivity.CUDA)\n",
        "\n",
        "# Function to measure latency\n",
        "def measure_latency(model, voc, sentences):\n",
        "    \"\"\"\n",
        "    Measures the inference time of a chatbot model.\n",
        "    \"\"\"\n",
        "    start_time = time.time()\n",
        "    for s in sentences:\n",
        "        evaluateExample(s, model, voc)\n",
        "    end_time = time.time()\n",
        "    return end_time - start_time\n",
        "\n",
        "# Test sentences\n",
        "sentences = [\"hello\", \"what's up?\", \"who are you?\", \"where am I?\", \"where are you from?\"]\n",
        "\n",
        "# Profile Regular PyTorch Model\n",
        "print(\"\\nProfiling Regular PyTorch Model...\")\n",
        "with profile(activities=activities, profile_memory=True, record_shapes=True) as prof:\n",
        "    with record_function(\"regular_model_inference\"):\n",
        "        encoder.eval()\n",
        "        decoder.eval()\n",
        "        regular_searcher = GreedySearchDecoder(encoder, decoder, decoder.n_layers).to(device)\n",
        "        pytorch_latency = measure_latency(regular_searcher, voc, sentences)\n",
        "print(prof.key_averages().table(sort_by=\"self_cpu_time_total\", row_limit=10))\n",
        "\n",
        "# **Profile TorchScript Model**\n",
        "print(\"\\nProfiling TorchScript Model...\")\n",
        "with profile(activities=activities, profile_memory=True, record_shapes=True) as prof:\n",
        "    with record_function(\"torchscript_model_inference\"):\n",
        "        scripted_searcher.to(device)\n",
        "        scripted_searcher.eval()\n",
        "        torchscript_latency = measure_latency(scripted_searcher, voc, sentences)\n",
        "print(prof.key_averages().table(sort_by=\"self_cpu_time_total\", row_limit=10))\n",
        "\n",
        "# **Compare and Print Results**\n",
        "print(\"\\nLatency Comparison Table\")\n",
        "print(f\"{'Model':<25} {'Latency (seconds)'}\")\n",
        "print(\"=\" * 40)\n",
        "print(f\"{'Regular PyTorch Model':<25} {pytorch_latency:.4f}\")\n",
        "print(f\"{'TorchScript Model':<25} {torchscript_latency:.4f}\")\n",
        "print(f\"\\nSpeedup Factor: {pytorch_latency / torchscript_latency:.2f}x\")\n"
      ],
      "metadata": {
        "colab": {
          "base_uri": "https://localhost:8080/"
        },
        "id": "6M57MXRsnvwj",
        "outputId": "587b15ec-4f97-40ff-e081-a596fb070560"
      },
      "execution_count": 45,
      "outputs": [
        {
          "output_type": "stream",
          "name": "stdout",
          "text": [
            "\n",
            "Profiling Regular PyTorch Model...\n",
            "> hello\n",
            "Bot: hello . ? ? ? ?\n",
            "> what's up?\n",
            "Bot: i want to talk . . !\n",
            "> who are you?\n",
            "Bot: i m your father . . !\n",
            "> where am I?\n",
            "Bot: you re worthless . . !\n",
            "> where are you from?\n",
            "Bot: i m not home . .\n",
            "-------------------------------------------------------  ------------  ------------  ------------  ------------  ------------  ------------  ------------  ------------  ------------  ------------  ------------  ------------  ------------  ------------  \n",
            "                                                   Name    Self CPU %      Self CPU   CPU total %     CPU total  CPU time avg     Self CUDA   Self CUDA %    CUDA total  CUDA time avg       CPU Mem  Self CPU Mem      CUDA Mem  Self CUDA Mem    # of Calls  \n",
            "-------------------------------------------------------  ------------  ------------  ------------  ------------  ------------  ------------  ------------  ------------  ------------  ------------  ------------  ------------  ------------  ------------  \n",
            "                                regular_model_inference        27.21%      18.993ms        99.97%      69.773ms      69.773ms       0.000us         0.00%      21.169ms      21.169ms           0 b        -488 b      29.19 Mb      -4.90 Mb             1  \n",
            "                                       cudaLaunchKernel        12.71%       8.867ms        12.71%       8.867ms       7.464us       0.000us         0.00%       0.000us       0.000us           0 b           0 b           0 b           0 b          1188  \n",
            "                                       aten::_cudnn_rnn         9.92%       6.925ms        18.65%      13.013ms     236.603us      11.104ms        52.45%      11.104ms     201.890us           0 b           0 b     431.50 Kb      -1.64 Gb            55  \n",
            "                                            aten::addmm         4.96%       3.461ms         7.18%       5.010ms      50.104us       5.332ms        25.19%       5.332ms      53.318us           0 b           0 b       1.61 Mb     -98.39 Mb           100  \n",
            "                                            aten::empty         4.59%       3.205ms         4.59%       3.205ms       5.765us       0.000us         0.00%       0.000us       0.000us         448 b         448 b       1.78 Gb       1.78 Gb           556  \n",
            "                                              aten::cat         3.96%       2.764ms         5.83%       4.069ms      26.252us     679.404us         3.21%     679.404us       4.383us           0 b           0 b     296.00 Kb     296.00 Kb           155  \n",
            "                                              aten::gru         3.59%       2.508ms        24.13%      16.840ms     306.175us       0.000us         0.00%      11.104ms     201.890us           0 b           0 b     431.50 Kb           0 b            55  \n",
            "                                              aten::bmm         2.35%       1.639ms         3.01%       2.099ms      41.973us     236.315us         1.12%     236.315us       4.726us           0 b           0 b     100.00 Kb     100.00 Kb            50  \n",
            "                                         aten::_softmax         2.23%       1.559ms         3.30%       2.301ms      23.012us     887.719us         4.19%     887.719us       8.877us           0 b           0 b       1.54 Mb       1.54 Mb           100  \n",
            "                                              aten::max         2.17%       1.514ms         2.89%       2.016ms      40.320us     812.808us         3.84%     812.808us      16.256us           0 b           0 b      50.00 Kb      50.00 Kb            50  \n",
            "-------------------------------------------------------  ------------  ------------  ------------  ------------  ------------  ------------  ------------  ------------  ------------  ------------  ------------  ------------  ------------  ------------  \n",
            "Self CPU time total: 69.794ms\n",
            "Self CUDA time total: 21.169ms\n",
            "\n",
            "\n",
            "Profiling TorchScript Model...\n",
            "> hello\n",
            "Bot: hello . ? ? ? ?\n",
            "> what's up?\n",
            "Bot: i want to talk . . !\n",
            "> who are you?\n",
            "Bot: i m your father . . !\n",
            "> where am I?\n",
            "Bot: you re worthless . . !\n",
            "> where are you from?\n",
            "Bot: i m not home . .\n",
            "-------------------------------------------------------  ------------  ------------  ------------  ------------  ------------  ------------  ------------  ------------  ------------  ------------  ------------  ------------  ------------  ------------  \n",
            "                                                   Name    Self CPU %      Self CPU   CPU total %     CPU total  CPU time avg     Self CUDA   Self CUDA %    CUDA total  CUDA time avg       CPU Mem  Self CPU Mem      CUDA Mem  Self CUDA Mem    # of Calls  \n",
            "-------------------------------------------------------  ------------  ------------  ------------  ------------  ------------  ------------  ------------  ------------  ------------  ------------  ------------  ------------  ------------  ------------  \n",
            "                                       cudaLaunchKernel        14.73%       7.841ms        14.73%       7.841ms       6.668us       0.000us         0.00%       0.000us       0.000us           0 b           0 b           0 b           0 b          1176  \n",
            "                                       aten::_cudnn_rnn        12.87%       6.852ms        23.70%      12.622ms     229.495us      11.162ms        54.44%      11.162ms     202.938us           0 b           0 b     431.50 Kb      -1.64 Gb            55  \n",
            "                                                forward        10.34%       5.504ms        89.41%      47.607ms       9.521ms       0.000us         0.00%      20.414ms       4.083ms         184 b         -40 b       4.12 Mb     -24.00 Kb             5  \n",
            "                            torchscript_model_inference         6.12%       3.259ms        99.97%      53.232ms      53.232ms       0.000us         0.00%      20.503ms      20.503ms           0 b        -408 b           0 b      -4.13 Mb             1  \n",
            "                                            aten::empty         4.99%       2.657ms         4.99%       2.657ms       5.159us       0.000us         0.00%       0.000us       0.000us         448 b         448 b       1.74 Gb       1.74 Gb           515  \n",
            "                                            aten::addmm         4.93%       2.627ms         7.47%       3.978ms      39.777us       5.328ms        25.98%       5.328ms      53.277us           0 b           0 b       1.61 Mb     -98.39 Mb           100  \n",
            "                                              aten::cat         4.83%       2.574ms         7.12%       3.791ms      24.459us     679.465us         3.31%     679.465us       4.384us           0 b           0 b     230.00 Kb     230.00 Kb           155  \n",
            "                                              aten::gru         4.36%       2.322ms        30.20%      16.081ms     292.383us       0.000us         0.00%      11.162ms     202.938us           0 b           0 b     431.50 Kb           0 b            55  \n",
            "                                              aten::max         2.76%       1.468ms         3.68%       1.959ms      39.171us     808.845us         3.94%     808.845us      16.177us           0 b           0 b      50.00 Kb      50.00 Kb            50  \n",
            "                                              aten::bmm         2.55%       1.356ms         3.21%       1.711ms      34.213us     236.311us         1.15%     236.311us       4.726us           0 b           0 b     100.00 Kb     100.00 Kb            50  \n",
            "-------------------------------------------------------  ------------  ------------  ------------  ------------  ------------  ------------  ------------  ------------  ------------  ------------  ------------  ------------  ------------  ------------  \n",
            "Self CPU time total: 53.248ms\n",
            "Self CUDA time total: 20.503ms\n",
            "\n",
            "\n",
            "Latency Comparison Table\n",
            "Model                     Latency (seconds)\n",
            "========================================\n",
            "Regular PyTorch Model     0.0651\n",
            "TorchScript Model         0.0519\n",
            "\n",
            "Speedup Factor: 1.25x\n"
          ]
        }
      ]
    },
    {
      "cell_type": "markdown",
      "source": [
        "Q7"
      ],
      "metadata": {
        "id": "fxRYoy8MqYHz"
      }
    },
    {
      "cell_type": "code",
      "source": [
        "# Ensure the save directory exists\n",
        "save_dir = \"data/save/models/\"\n",
        "os.makedirs(save_dir, exist_ok=True)\n",
        "\n",
        "# Save the models\n",
        "torch.jit.save(scripted_searcher, os.path.join(save_dir, \"scripted_searcher.pt\"))\n",
        "torch.jit.save(traced_encoder, os.path.join(save_dir, \"traced_encoder.pt\"))\n",
        "torch.jit.save(traced_decoder, os.path.join(save_dir, \"traced_decoder.pt\"))\n",
        "\n",
        "print(f\"TorchScript models saved successfully in {save_dir}\")"
      ],
      "metadata": {
        "colab": {
          "base_uri": "https://localhost:8080/"
        },
        "id": "4r37ZoRaqZB7",
        "outputId": "d6a7f955-2f0d-4076-e905-06047bade96d"
      },
      "execution_count": 57,
      "outputs": [
        {
          "output_type": "stream",
          "name": "stdout",
          "text": [
            "TorchScript models saved successfully in data/save/models/\n"
          ]
        }
      ]
    },
    {
      "cell_type": "code",
      "source": [
        "# Load and test if models are correctly serialized\n",
        "scripted_searcher = torch.jit.load(\"data/save/models/scripted_searcher.pt\")\n",
        "traced_encoder = torch.jit.load(\"data/save/models/traced_encoder.pt\")\n",
        "traced_decoder = torch.jit.load(\"data/save/models/traced_decoder.pt\")\n",
        "\n",
        "print(\"Models loaded successfully from serialized files.\")"
      ],
      "metadata": {
        "colab": {
          "base_uri": "https://localhost:8080/"
        },
        "id": "ulZZBiJuqwEn",
        "outputId": "67c4bf96-dd86-401a-f3ff-dff5b4ee4e12"
      },
      "execution_count": 58,
      "outputs": [
        {
          "output_type": "stream",
          "name": "stdout",
          "text": [
            "Models loaded successfully from serialized files.\n"
          ]
        }
      ]
    },
    {
      "cell_type": "markdown",
      "source": [
        "Q8\n"
      ],
      "metadata": {
        "id": "8mf8UQY2wtMh"
      }
    },
    {
      "cell_type": "code",
      "source": [
        "# Load your scripted model\n",
        "scripted_searcher = torch.jit.load(\"data/save/models/scripted_searcher.pt\")\n",
        "\n",
        "# Save it in a directory accessible to C++\n",
        "scripted_searcher.save(\"data/save/models/chatbot_model.pt\")\n",
        "\n",
        "print(\"TorchScript model saved successfully!\")"
      ],
      "metadata": {
        "colab": {
          "base_uri": "https://localhost:8080/"
        },
        "id": "FtlOeKWXwt8a",
        "outputId": "a6a0c0d0-01e3-48e0-e512-9abe54840a4b"
      },
      "execution_count": 59,
      "outputs": [
        {
          "output_type": "stream",
          "name": "stdout",
          "text": [
            "TorchScript model saved successfully!\n"
          ]
        }
      ]
    },
    {
      "cell_type": "code",
      "source": [
        "import torch\n",
        "\n",
        "# Load your original TorchScript model\n",
        "scripted_searcher = torch.jit.load(\"data/save/models/scripted_searcher.pt\")\n",
        "\n",
        "# Ensure the model is in evaluation mode\n",
        "scripted_searcher.eval()\n",
        "\n",
        "# Move the model to CPU\n",
        "scripted_searcher = scripted_searcher.to(\"cpu\")\n",
        "\n",
        "# Save the CPU-compatible TorchScript model\n",
        "torch.jit.save(scripted_searcher, \"data/save/models/scripted_chatbot_cpu.pth\")\n",
        "\n",
        "print(\"Model successfully saved for CPU usage!\")"
      ],
      "metadata": {
        "colab": {
          "base_uri": "https://localhost:8080/"
        },
        "id": "97ami5RCIPU1",
        "outputId": "b2124d83-219d-4e65-f68f-64c29639ed73"
      },
      "execution_count": 67,
      "outputs": [
        {
          "output_type": "stream",
          "name": "stdout",
          "text": [
            "Model successfully saved for CPU usage!\n"
          ]
        }
      ]
    },
    {
      "cell_type": "code",
      "source": [
        "for param in scripted_searcher.parameters():\n",
        "    assert param.device.type == \"cpu\", \" Model is still on GPU!\"\n",
        "print(\"Model confirmed to be on CPU!\")"
      ],
      "metadata": {
        "colab": {
          "base_uri": "https://localhost:8080/"
        },
        "id": "DvIQX0XcUxwf",
        "outputId": "43474822-a3fe-47ef-dbd9-e7d2f6a62418"
      },
      "execution_count": 69,
      "outputs": [
        {
          "output_type": "stream",
          "name": "stdout",
          "text": [
            "Model confirmed to be on CPU!\n"
          ]
        }
      ]
    },
    {
      "cell_type": "code",
      "source": [
        "import torch\n",
        "\n",
        "# Load the original TorchScript model\n",
        "scripted_searcher = torch.jit.load(\"data/save/models/scripted_searcher.pt\", map_location=\"cpu\")\n",
        "\n",
        "# Ensure the model is in evaluation mode (important for inference)\n",
        "scripted_searcher.eval()\n",
        "\n",
        "# Move the entire model to CPU\n",
        "scripted_searcher.to(torch.device(\"cpu\"))\n",
        "\n",
        "# Force all parameters and buffers onto CPU\n",
        "for param in scripted_searcher.parameters():\n",
        "    param.data = param.data.cpu()\n",
        "\n",
        "for buffer in scripted_searcher.buffers():\n",
        "    buffer.data = buffer.data.cpu()\n",
        "\n",
        "# Save the CPU-compatible TorchScript model\n",
        "torch.jit.save(scripted_searcher, \"data/save/models/scripted_chatbot_cpu.pth\")\n",
        "\n",
        "print(\"Model successfully converted and saved for CPU usage!\")\n"
      ],
      "metadata": {
        "colab": {
          "base_uri": "https://localhost:8080/"
        },
        "id": "vXzT1ZZuVM8W",
        "outputId": "2d85006d-cccf-4062-a593-8c0fe611f5be"
      },
      "execution_count": 74,
      "outputs": [
        {
          "output_type": "stream",
          "name": "stdout",
          "text": [
            "Model successfully converted and saved for CPU usage!\n"
          ]
        }
      ]
    },
    {
      "cell_type": "code",
      "source": [
        "# Load model\n",
        "scripted_searcher = torch.jit.load(\"data/save/models/scripted_searcher.pt\", map_location=\"cpu\")\n",
        "\n",
        "# Check if any parameter or buffer is still on CUDA\n",
        "for name, param in scripted_searcher.named_parameters():\n",
        "    if param.device.type != \"cpu\":\n",
        "        print(f\"Parameter {name} is still on {param.device}\")\n",
        "\n",
        "for name, buffer in scripted_searcher.named_buffers():\n",
        "    if buffer.device.type != \"cpu\":\n",
        "        print(f\"Buffer {name} is still on {buffer.device}\")"
      ],
      "metadata": {
        "id": "XjHBDwNtXpZE"
      },
      "execution_count": 76,
      "outputs": []
    },
    {
      "cell_type": "code",
      "source": [
        "!zip -r save.zip data/save"
      ],
      "metadata": {
        "colab": {
          "base_uri": "https://localhost:8080/"
        },
        "id": "Sb8w2sVdOtXt",
        "outputId": "7d99b564-c106-4a1e-a9ea-fa7e109c3c78"
      },
      "execution_count": 61,
      "outputs": [
        {
          "output_type": "stream",
          "name": "stdout",
          "text": [
            "  adding: data/save/ (stored 0%)\n",
            "  adding: data/save/trace.json (deflated 93%)\n",
            "  adding: data/save/traced_decoder.pt (deflated 7%)\n",
            "  adding: data/save/cb_model_bestloss/ (stored 0%)\n",
            "  adding: data/save/cb_model_bestloss/movie-corpus/ (stored 0%)\n",
            "  adding: data/save/cb_model_bestloss/movie-corpus/2-2_500/ (stored 0%)\n",
            "  adding: data/save/cb_model_bestloss/movie-corpus/2-2_500/4000_checkpoint.tar (deflated 8%)\n",
            "  adding: data/save/traced_encoder.pt (deflated 7%)\n",
            "  adding: data/save/models/ (stored 0%)\n",
            "  adding: data/save/models/traced_decoder.pt (deflated 7%)\n",
            "  adding: data/save/models/traced_encoder.pt (deflated 7%)\n",
            "  adding: data/save/models/chatbot_model.pt (deflated 7%)\n",
            "  adding: data/save/models/scripted_chatbot_cpu.pth (deflated 7%)\n",
            "  adding: data/save/models/scripted_searcher.pt (deflated 7%)\n",
            "  adding: data/save/scripted_searcher.pt (deflated 7%)\n",
            "  adding: data/save/cb_model_bestloss.pth (deflated 8%)\n"
          ]
        }
      ]
    },
    {
      "cell_type": "code",
      "source": [
        "from google.colab import files\n",
        "files.download(\"save.zip\")"
      ],
      "metadata": {
        "colab": {
          "base_uri": "https://localhost:8080/",
          "height": 17
        },
        "id": "LbUivIVQOu5v",
        "outputId": "ad5969a0-2540-4360-c353-f38f6a43b5fa"
      },
      "execution_count": 62,
      "outputs": [
        {
          "output_type": "display_data",
          "data": {
            "text/plain": [
              "<IPython.core.display.Javascript object>"
            ],
            "application/javascript": [
              "\n",
              "    async function download(id, filename, size) {\n",
              "      if (!google.colab.kernel.accessAllowed) {\n",
              "        return;\n",
              "      }\n",
              "      const div = document.createElement('div');\n",
              "      const label = document.createElement('label');\n",
              "      label.textContent = `Downloading \"${filename}\": `;\n",
              "      div.appendChild(label);\n",
              "      const progress = document.createElement('progress');\n",
              "      progress.max = size;\n",
              "      div.appendChild(progress);\n",
              "      document.body.appendChild(div);\n",
              "\n",
              "      const buffers = [];\n",
              "      let downloaded = 0;\n",
              "\n",
              "      const channel = await google.colab.kernel.comms.open(id);\n",
              "      // Send a message to notify the kernel that we're ready.\n",
              "      channel.send({})\n",
              "\n",
              "      for await (const message of channel.messages) {\n",
              "        // Send a message to notify the kernel that we're ready.\n",
              "        channel.send({})\n",
              "        if (message.buffers) {\n",
              "          for (const buffer of message.buffers) {\n",
              "            buffers.push(buffer);\n",
              "            downloaded += buffer.byteLength;\n",
              "            progress.value = downloaded;\n",
              "          }\n",
              "        }\n",
              "      }\n",
              "      const blob = new Blob(buffers, {type: 'application/binary'});\n",
              "      const a = document.createElement('a');\n",
              "      a.href = window.URL.createObjectURL(blob);\n",
              "      a.download = filename;\n",
              "      div.appendChild(a);\n",
              "      a.click();\n",
              "      div.remove();\n",
              "    }\n",
              "  "
            ]
          },
          "metadata": {}
        },
        {
          "output_type": "display_data",
          "data": {
            "text/plain": [
              "<IPython.core.display.Javascript object>"
            ],
            "application/javascript": [
              "download(\"download_a2e7eb5d-e795-4c8e-a364-e71079bfc16c\", \"save.zip\", 1776458501)"
            ]
          },
          "metadata": {}
        }
      ]
    },
    {
      "cell_type": "code",
      "source": [
        "# import shutil\n",
        "# from google.colab import files\n",
        "\n",
        "# # Zip the 'save' folder\n",
        "# shutil.make_archive('save', 'zip', '/content/data/save')\n",
        "\n",
        "# # Download the zipped folder\n",
        "# files.download('save.zip')"
      ],
      "metadata": {
        "id": "vBvEFz4EO8qB"
      },
      "execution_count": 64,
      "outputs": []
    }
  ],
  "metadata": {
    "kernelspec": {
      "display_name": "Python 3",
      "name": "python3"
    },
    "language_info": {
      "codemirror_mode": {
        "name": "ipython",
        "version": 3
      },
      "file_extension": ".py",
      "mimetype": "text/x-python",
      "name": "python",
      "nbconvert_exporter": "python",
      "pygments_lexer": "ipython3",
      "version": "3.10.12"
    },
    "colab": {
      "provenance": [],
      "gpuType": "T4",
      "machine_shape": "hm"
    },
    "accelerator": "GPU"
  },
  "nbformat": 4,
  "nbformat_minor": 0
}